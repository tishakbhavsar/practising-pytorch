{
  "nbformat": 4,
  "nbformat_minor": 0,
  "metadata": {
    "colab": {
      "provenance": [],
      "gpuType": "T4",
      "authorship_tag": "ABX9TyOOmDcST7s0rCByIJ2HF5/S",
      "include_colab_link": true
    },
    "kernelspec": {
      "name": "python3",
      "display_name": "Python 3"
    },
    "language_info": {
      "name": "python"
    },
    "accelerator": "GPU"
  },
  "cells": [
    {
      "cell_type": "markdown",
      "metadata": {
        "id": "view-in-github",
        "colab_type": "text"
      },
      "source": [
        "<a href=\"https://colab.research.google.com/github/tishakbhavsar/practising-pytorch/blob/main/01_pytorch_workflow.ipynb\" target=\"_parent\"><img src=\"https://colab.research.google.com/assets/colab-badge.svg\" alt=\"Open In Colab\"/></a>"
      ]
    },
    {
      "cell_type": "markdown",
      "source": [
        "# PyTorch Workflow\n",
        "\n",
        "An example PyTorch end-to-end workflow."
      ],
      "metadata": {
        "id": "4eI5KRWJeazH"
      }
    },
    {
      "cell_type": "code",
      "source": [
        "topics_covering = {\n",
        "    1: \"data preparing and loading\",\n",
        "    2: \"build model\",\n",
        "    3: \"fitting the model to data (training)\",\n",
        "    4: \"making predictions and evaluating model\",\n",
        "    5: \"saving and loading model\",\n",
        "    6: \"putting together\"\n",
        "}"
      ],
      "metadata": {
        "id": "D_droY0IfPN5"
      },
      "execution_count": 2,
      "outputs": []
    },
    {
      "cell_type": "code",
      "source": [
        "import torch\n",
        "from torch import nn # nn contains all PyTorch have basic building blocks for computational graphs (NNs)\n",
        "import matplotlib.pyplot as plt\n",
        "# nn -> has different types of layers, convolutional layers, pooling layers etc.\n",
        "\n",
        "# check PyTorch version\n",
        "torch.__version__"
      ],
      "metadata": {
        "colab": {
          "base_uri": "https://localhost:8080/",
          "height": 35
        },
        "id": "PYQ3Z1LVfk3v",
        "outputId": "96f1097f-c963-4da8-fb8e-4c6f0ca15314"
      },
      "execution_count": 3,
      "outputs": [
        {
          "output_type": "execute_result",
          "data": {
            "text/plain": [
              "'2.6.0+cu124'"
            ],
            "application/vnd.google.colaboratory.intrinsic+json": {
              "type": "string"
            }
          },
          "metadata": {},
          "execution_count": 3
        }
      ]
    },
    {
      "cell_type": "markdown",
      "source": [
        "# 1. Data Preparing and Loading\n",
        "\n",
        "Data can be anything in ML. Excel spreadsheet, videos, images, audio, DNA, text etc\n",
        "\n",
        "ML is a game of two parts:\n",
        "\n",
        "1) Get data into a numerical representation (numerical encoding via tensors)\n",
        "\n",
        "2) Build a model to learn patterns in that numerical operations\n",
        "\n",
        "Lets create some known data using linear regression. Use LR formula to make a straight line with known parameters."
      ],
      "metadata": {
        "id": "RNzi0rdigCMG"
      }
    },
    {
      "cell_type": "code",
      "source": [
        "# Create known parameters\n",
        "\n",
        "weight = 0.7 # slope\n",
        "bias = 0.3 # error / Y intercept\n",
        "\n",
        "# Create\n",
        "start = 0\n",
        "end = 1\n",
        "step = 0.02\n",
        "X = torch.arange(start, end, step).unsqueeze(dim=1)\n",
        "y = weight * X + bias\n",
        "\n",
        "X[:10], y[:10]"
      ],
      "metadata": {
        "colab": {
          "base_uri": "https://localhost:8080/"
        },
        "id": "tVUBy_OHgRko",
        "outputId": "37a7d03a-80da-4c83-9fa2-d86ab67e7dcc"
      },
      "execution_count": 4,
      "outputs": [
        {
          "output_type": "execute_result",
          "data": {
            "text/plain": [
              "(tensor([[0.0000],\n",
              "         [0.0200],\n",
              "         [0.0400],\n",
              "         [0.0600],\n",
              "         [0.0800],\n",
              "         [0.1000],\n",
              "         [0.1200],\n",
              "         [0.1400],\n",
              "         [0.1600],\n",
              "         [0.1800]]),\n",
              " tensor([[0.3000],\n",
              "         [0.3140],\n",
              "         [0.3280],\n",
              "         [0.3420],\n",
              "         [0.3560],\n",
              "         [0.3700],\n",
              "         [0.3840],\n",
              "         [0.3980],\n",
              "         [0.4120],\n",
              "         [0.4260]]))"
            ]
          },
          "metadata": {},
          "execution_count": 4
        }
      ]
    },
    {
      "cell_type": "code",
      "source": [
        "len(X), len(y)"
      ],
      "metadata": {
        "colab": {
          "base_uri": "https://localhost:8080/"
        },
        "id": "rny2kTcLhSrb",
        "outputId": "2ba49568-8f8e-4db7-d16d-2f95f327f6dc"
      },
      "execution_count": 5,
      "outputs": [
        {
          "output_type": "execute_result",
          "data": {
            "text/plain": [
              "(50, 50)"
            ]
          },
          "metadata": {},
          "execution_count": 5
        }
      ]
    },
    {
      "cell_type": "markdown",
      "source": [
        "### Splitting data into training and test sets\n",
        "\n",
        "Generalization : The ability of ML model to perform well on data it hasn't seen before"
      ],
      "metadata": {
        "id": "q-HJC-qlhZBI"
      }
    },
    {
      "cell_type": "code",
      "source": [
        "# Create a train/test split\n",
        "\n",
        "train_split = int(0.8 * len(X))\n",
        "X_train, y_train = X[:train_split], y[:train_split]\n",
        "X_test, y_test = X[train_split:], y[train_split:]\n",
        "\n",
        "len(X_train), len(y_train), len(X_test), len(y_test)"
      ],
      "metadata": {
        "colab": {
          "base_uri": "https://localhost:8080/"
        },
        "id": "T-9IAV8nh0EK",
        "outputId": "b91a6e39-0cda-4277-a35a-ab07445714a6"
      },
      "execution_count": 6,
      "outputs": [
        {
          "output_type": "execute_result",
          "data": {
            "text/plain": [
              "(40, 40, 10, 10)"
            ]
          },
          "metadata": {},
          "execution_count": 6
        }
      ]
    },
    {
      "cell_type": "markdown",
      "source": [
        "### How can we better visualise our data?"
      ],
      "metadata": {
        "id": "ntS06AyEi4EB"
      }
    },
    {
      "cell_type": "code",
      "source": [
        "def plot_predictions(train_data = X_train, train_labels = y_train,\n",
        "                     test_data = X_test, test_labels = y_test, predictions=None):\n",
        "  \"\"\"Plots training data, test data and compares predictions.\"\"\"\n",
        "  plt.figure(figsize=(10,7))\n",
        "\n",
        "  plt.scatter(train_data, train_labels, c=\"b\", s=4, label=\"Training data\")\n",
        "\n",
        "  plt.scatter(test_data, test_labels, c=\"g\", s=4, label=\"Testing data\")\n",
        "\n",
        "  if predictions is not None:\n",
        "    # Plot predictions if they exist\n",
        "    plt.scatter(test_data, predictions, c=\"r\", s=4, label=\"Predictions\")\n",
        "\n",
        "  plt.legend(prop={\"size\": 14})\n"
      ],
      "metadata": {
        "id": "_3RvRIeYimGt"
      },
      "execution_count": 7,
      "outputs": []
    },
    {
      "cell_type": "code",
      "source": [
        "plot_predictions()"
      ],
      "metadata": {
        "colab": {
          "base_uri": "https://localhost:8080/",
          "height": 461
        },
        "id": "zCl-Ht8qjZo_",
        "outputId": "f0b411cf-4a19-412f-abcc-ab19806b9fcd"
      },
      "execution_count": 8,
      "outputs": [
        {
          "output_type": "display_data",
          "data": {
            "text/plain": [
              "<Figure size 1000x700 with 1 Axes>"
            ],
            "image/png": "[encoded data removed]"
          },
          "metadata": {}
        }
      ]
    },
    {
      "cell_type": "markdown",
      "source": [
        "## 2. Build Model"
      ],
      "metadata": {
        "id": "xBB-9lYHj35S"
      }
    },
    {
      "cell_type": "code",
      "source": [
        "# Create a linear regression model class\n",
        "from torch import nn\n",
        "\n",
        "# nn.Module -> almost everything in PyTorch inherits from nn.Module, base class for all neural network modules.\n",
        "class LinearRegressionModel(nn.Module):\n",
        "  def __init__(self): # constructor\n",
        "    super().__init__()\n",
        "    self.weights = nn.Parameter(torch.randn(1,requires_grad=True, dtype=torch.float))\n",
        "    self.bias = nn.Parameter(torch.randn(1,requires_grad=True, dtype=torch.float))\n",
        "  # Forward method to define computation in the model\n",
        "  def forward(self, x: torch.Tensor) -> torch.Tensor: #\"x\" is input data\n",
        "      return self.weights * x + self.bias # linear regression formula\n"
      ],
      "metadata": {
        "id": "YonEiQVEkbwL"
      },
      "execution_count": 9,
      "outputs": []
    },
    {
      "cell_type": "markdown",
      "source": [
        "### What does our model do?\n",
        "\n",
        "* Start with random values (weights and bias)\n",
        "* Look at training data and adjust those random values to better represent the ideal values\n",
        "\n",
        "### How does it do so?\n",
        "\n",
        "* Using gradient descent algorithm -> (torch.autograd?)\n",
        "* Backpropagation"
      ],
      "metadata": {
        "id": "QfvM18Uym8JP"
      }
    },
    {
      "cell_type": "markdown",
      "source": [
        "### PyTorch model building essentials\n",
        "\n",
        "* torch.nn - contains all the building blocks for computational graphs (general term for neural networks).\n",
        "\n",
        "* torch.nn.parameter - what parameters should our model try and learn, often a PyTorch layer from torch.nn will set these for us\n",
        "\n",
        "* torch.nn.Module - the base class for all neural network modules. if you subclass it, you should overwrite forward() function.\n",
        "\n",
        "* torch.optim - this where the optimizers in PT live, they will help with Gradient Descent (optimizer - contains algorithms to optimize the values/parameters)\n",
        "\n",
        "* def forward() - All nn.Module subclasses are required to overwrite this function. this method defines what happens in forward computation."
      ],
      "metadata": {
        "id": "KKjWnNmWCUxB"
      }
    },
    {
      "cell_type": "markdown",
      "source": [
        "### Checking the contents of our PyTorch Model\n",
        "\n",
        "What is inside the model? We can check our model parameters, using '.parameters()'"
      ],
      "metadata": {
        "id": "KNKMI1XlKrSQ"
      }
    },
    {
      "cell_type": "code",
      "source": [
        "# Create a random seed, because we are creating random parameter values\n",
        "\n",
        "torch.manual_seed(42)\n",
        "\n",
        "# Create an instance of the model we created\n",
        "\n",
        "model_0 = LinearRegressionModel()\n",
        "\n",
        "list(model_0.parameters())"
      ],
      "metadata": {
        "id": "GoQiPfnqmwZM",
        "colab": {
          "base_uri": "https://localhost:8080/"
        },
        "outputId": "80b51c64-eb8b-4489-c239-29d8b716d6df"
      },
      "execution_count": 10,
      "outputs": [
        {
          "output_type": "execute_result",
          "data": {
            "text/plain": [
              "[Parameter containing:\n",
              " tensor([0.3367], requires_grad=True),\n",
              " Parameter containing:\n",
              " tensor([0.1288], requires_grad=True)]"
            ]
          },
          "metadata": {},
          "execution_count": 10
        }
      ]
    },
    {
      "cell_type": "code",
      "source": [
        "# List named parameters\n",
        "\n",
        "model_0.state_dict()"
      ],
      "metadata": {
        "colab": {
          "base_uri": "https://localhost:8080/"
        },
        "id": "HHOUnHZGLGdT",
        "outputId": "eb9012c3-82c2-4fd2-881e-106de996ac8c"
      },
      "execution_count": 11,
      "outputs": [
        {
          "output_type": "execute_result",
          "data": {
            "text/plain": [
              "OrderedDict([('weights', tensor([0.3367])), ('bias', tensor([0.1288]))])"
            ]
          },
          "metadata": {},
          "execution_count": 11
        }
      ]
    },
    {
      "cell_type": "markdown",
      "source": [
        "### Making Predictions using `torch.inference_mode()`\n",
        "\n",
        "To check model's predictive power, lets see how well it predicts y_test baed on X_test.\n",
        "\n",
        "When, we pass through data, it is going to run through forward() method."
      ],
      "metadata": {
        "id": "XrqgdntrMUn4"
      }
    },
    {
      "cell_type": "code",
      "source": [
        "# Make predictions - use inference_mode\n",
        "with torch.inference_mode(): # context manager, inference mode turns off gradient tracking!, benefit => predictions will be fast (a lot of things that aren't required aren't being saved!)\n",
        "  y_preds = model_0(X_test)\n",
        "\n",
        "# with torch.no_grad: // same, however, inference_mode() is preferred.\n",
        "y_preds"
      ],
      "metadata": {
        "colab": {
          "base_uri": "https://localhost:8080/"
        },
        "id": "8OZ_W52iL8p2",
        "outputId": "b3418a3e-a015-4eb6-c98d-929da6b3c83c"
      },
      "execution_count": 12,
      "outputs": [
        {
          "output_type": "execute_result",
          "data": {
            "text/plain": [
              "tensor([[0.3982],\n",
              "        [0.4049],\n",
              "        [0.4116],\n",
              "        [0.4184],\n",
              "        [0.4251],\n",
              "        [0.4318],\n",
              "        [0.4386],\n",
              "        [0.4453],\n",
              "        [0.4520],\n",
              "        [0.4588]])"
            ]
          },
          "metadata": {},
          "execution_count": 12
        }
      ]
    },
    {
      "cell_type": "code",
      "source": [
        "# y_preds = model_0(X_test) # same as inference mode\n",
        "# y_preds # difference, here there is a grad function"
      ],
      "metadata": {
        "id": "AprPdfZiNYnN"
      },
      "execution_count": 13,
      "outputs": []
    },
    {
      "cell_type": "code",
      "source": [
        "plot_predictions(predictions=y_preds)"
      ],
      "metadata": {
        "colab": {
          "base_uri": "https://localhost:8080/",
          "height": 461
        },
        "id": "_4s_lhQiMGWD",
        "outputId": "77f1fb73-fd15-4b72-e3ea-82f0492eff02"
      },
      "execution_count": 14,
      "outputs": [
        {
          "output_type": "display_data",
          "data": {
            "text/plain": [
              "<Figure size 1000x700 with 1 Axes>"
            ],
            "image/png": "[encoded data removed]"
          },
          "metadata": {}
        }
      ]
    },
    {
      "cell_type": "markdown",
      "source": [
        "### 3. Training\n",
        "\n",
        "The whole idea of training is for a model to move away from some *unknwon* parameters (these may be random) to some unknown parameters or from a poor representation of data to better representation of data.\n",
        "\n",
        "We can use a loss function to measure how poorly our model's predictions are. Also called cost function/criterion.\n",
        "\n",
        "**Loss Function** : A function to measure how wrong your model predictions are compared to actual output.\n",
        "\n",
        "**Optimizer** : Take into account the loss of a model and adjusts model parameters accordingly (weights and bias), to improve the loss function.\n",
        "\n",
        "And specifically in PyTorch, we need:\n",
        "\n",
        "- A training loop\n",
        "- A testing loop"
      ],
      "metadata": {
        "id": "PAjJDnyhOqPY"
      }
    },
    {
      "cell_type": "code",
      "source": [
        "list(model_0.parameters())"
      ],
      "metadata": {
        "colab": {
          "base_uri": "https://localhost:8080/"
        },
        "id": "LdB0tjnxNLiV",
        "outputId": "00b754b1-36b2-4b11-9085-aa1498b64be1"
      },
      "execution_count": 15,
      "outputs": [
        {
          "output_type": "execute_result",
          "data": {
            "text/plain": [
              "[Parameter containing:\n",
              " tensor([0.3367], requires_grad=True),\n",
              " Parameter containing:\n",
              " tensor([0.1288], requires_grad=True)]"
            ]
          },
          "metadata": {},
          "execution_count": 15
        }
      ]
    },
    {
      "cell_type": "code",
      "source": [
        "# Check out our model's parameters (a parameter is a value, the model sets itself)\n",
        "model_0.state_dict()"
      ],
      "metadata": {
        "colab": {
          "base_uri": "https://localhost:8080/"
        },
        "id": "EHjDvJx-Pk5I",
        "outputId": "43f48f68-e7e2-458c-b330-23ab5ffcaf63"
      },
      "execution_count": 16,
      "outputs": [
        {
          "output_type": "execute_result",
          "data": {
            "text/plain": [
              "OrderedDict([('weights', tensor([0.3367])), ('bias', tensor([0.1288]))])"
            ]
          },
          "metadata": {},
          "execution_count": 16
        }
      ]
    },
    {
      "cell_type": "code",
      "source": [
        "# L1 LOSS - mean absolute error (mae)\n",
        "\n",
        "# L2 LOSS - mean squared error (mse)"
      ],
      "metadata": {
        "id": "6fgUn46zPnL-"
      },
      "execution_count": 17,
      "outputs": []
    },
    {
      "cell_type": "code",
      "source": [
        "# Set up a loss function\n",
        "loss_fn = nn.L1Loss() #- mae\n",
        "\n",
        "# Set up an optimizer - works with loss function, to reduce loss function\n",
        "\n",
        "# we use SGD - Stochastic Gradient Descent #lr - hyperparam\n",
        "optimizer = torch.optim.SGD(params = model_0.parameters(), lr=0.01)"
      ],
      "metadata": {
        "id": "77qnM-77Q8r7"
      },
      "execution_count": 18,
      "outputs": []
    },
    {
      "cell_type": "markdown",
      "source": [
        "### Which loss function and optimizer should I use?\n",
        "\n",
        "A: This problem will be specific. But with experience, you'll get an idea of what works and what doesn't with your particular problem set.\n",
        "\n",
        "For eg., for a regression problem (liek ours), a loss function of nn.L1oss() and an optimizer like torch.optim.SGC() will suffice.\n",
        "\n",
        "But for a classification problem like whether a photo is of a cat or a dog, you'll likely want to use a loss function : nn.BCELoss() (binary cross entropy loss)"
      ],
      "metadata": {
        "id": "9aJ_sfmJaHCe"
      }
    },
    {
      "cell_type": "markdown",
      "source": [
        "### Building a training loop in PyTorch + testing loop\n",
        "\n",
        "A couple of things we need in a training loop:\n",
        "\n",
        "0. Loop through the data\n",
        "1. forward pass (this involves, data moving through our model's forward() function) to make predictions on data - also called forward propagation.\n",
        "2. Calculate the loss  (compare forward pass predictions to ground truth labels)\n",
        "3. Optimizer zero grad\n",
        "4. Loss backward - move backwards through the network to calculate the gradients of the params of our model to the loss (backprop error??)\n",
        "5. Optimizer step - use optimizer to minimize loss (**gradient descent**)\n"
      ],
      "metadata": {
        "id": "0P9fjXArayyL"
      }
    },
    {
      "cell_type": "code",
      "source": [
        "# An epoch is one loop through the data...(HYPERPARAMTER)\n",
        "epochs = 100\n",
        "\n",
        "# Track values\n",
        "epoch_count = []\n",
        "loss_values = []\n",
        "test_loss_values = []\n",
        "\n",
        "\n",
        "# 0. loop through the data (for epoch times)\n",
        "for epoch in range(epochs):\n",
        "     # Set the model to training mode\n",
        "     model_0.train() # sets all parameters that require grad to require gradients - default mode\n",
        "     #1. Forward pass:\n",
        "     y_pred = model_0(X_train)\n",
        "\n",
        "     #2. Calculate the loss:\n",
        "     loss = loss_fn(y_pred, y_train)\n",
        "     print(f'Loss: {loss}')\n",
        "     #3. Optimizer zero grad\n",
        "     optimizer.zero_grad()\n",
        "\n",
        "     #4. Perform backprop on the loss with respect to the parameters of the model\n",
        "     loss.backward()\n",
        "\n",
        "     #5. Step the optimizer (perform GD)\n",
        "     optimizer.step()\n",
        "    # by default how the optimizer changes will accumulate through the loop, so we have to zero them in step 3 for the next iteration of the loop\n",
        "\n",
        "     # TESTING :\n",
        "     model_0.eval() # turns off gradient tracking, turns off different settings in the model not needed for evaluation/testing (dropout/batch norm layers)\n",
        "\n",
        "     with torch.inference_mode(): # turns off gradient tracking & a couple more things not needed for testing\n",
        "       # you may also see torch.no_grad() which is a little slower\n",
        "\n",
        "       # 1. do the forward pass\n",
        "       test_pred = model_0(X_test)\n",
        "       # 2. calculate the loss\n",
        "       test_loss = loss_fn(test_pred, y_test)\n",
        "     if epoch % 10 == 0:\n",
        "       epoch_count.append(epoch)\n",
        "       loss_values.append(loss)\n",
        "       test_loss_values.append(test_loss)\n",
        "       print(f'Epoch: {epoch} | Loss: {loss} | Test Loss: {test_loss}')\n",
        "       print(model_0.state_dict())\n"
      ],
      "metadata": {
        "id": "-JKK7UpBSEXr",
        "colab": {
          "base_uri": "https://localhost:8080/"
        },
        "outputId": "ba3ee992-1ca5-4091-f9cc-34b88d4b2e8b"
      },
      "execution_count": 19,
      "outputs": [
        {
          "output_type": "stream",
          "name": "stdout",
          "text": [
            "Loss: 0.31288138031959534\n",
            "Epoch: 0 | Loss: 0.31288138031959534 | Test Loss: 0.48106518387794495\n",
            "OrderedDict([('weights', tensor([0.3406])), ('bias', tensor([0.1388]))])\n",
            "Loss: 0.3013603389263153\n",
            "Loss: 0.28983935713768005\n",
            "Loss: 0.2783183455467224\n",
            "Loss: 0.26679736375808716\n",
            "Loss: 0.2552763521671295\n",
            "Loss: 0.24375534057617188\n",
            "Loss: 0.23223432898521423\n",
            "Loss: 0.22071333229541779\n",
            "Loss: 0.20919232070446014\n",
            "Loss: 0.1976713240146637\n",
            "Epoch: 10 | Loss: 0.1976713240146637 | Test Loss: 0.3463551998138428\n",
            "OrderedDict([('weights', tensor([0.3796])), ('bias', tensor([0.2388]))])\n",
            "Loss: 0.18615034222602844\n",
            "Loss: 0.1746293306350708\n",
            "Loss: 0.16310831904411316\n",
            "Loss: 0.1515873372554779\n",
            "Loss: 0.14006635546684265\n",
            "Loss: 0.1285453587770462\n",
            "Loss: 0.11702437698841095\n",
            "Loss: 0.1060912236571312\n",
            "Loss: 0.09681284427642822\n",
            "Loss: 0.08908725529909134\n",
            "Epoch: 20 | Loss: 0.08908725529909134 | Test Loss: 0.21729660034179688\n",
            "OrderedDict([('weights', tensor([0.4184])), ('bias', tensor([0.3333]))])\n",
            "Loss: 0.08227583020925522\n",
            "Loss: 0.07638873159885406\n",
            "Loss: 0.07160007208585739\n",
            "Loss: 0.06747635453939438\n",
            "Loss: 0.06395438313484192\n",
            "Loss: 0.06097004935145378\n",
            "Loss: 0.05845819041132927\n",
            "Loss: 0.05635259300470352\n",
            "Loss: 0.0545857772231102\n",
            "Loss: 0.053148526698350906\n",
            "Epoch: 30 | Loss: 0.053148526698350906 | Test Loss: 0.14464017748832703\n",
            "OrderedDict([('weights', tensor([0.4512])), ('bias', tensor([0.3768]))])\n",
            "Loss: 0.05181945487856865\n",
            "Loss: 0.05069301277399063\n",
            "Loss: 0.0498228520154953\n",
            "Loss: 0.04895269125699997\n",
            "Loss: 0.04819351062178612\n",
            "Loss: 0.047531817108392715\n",
            "Loss: 0.04692792519927025\n",
            "Loss: 0.04642331600189209\n",
            "Loss: 0.04591871052980423\n",
            "Loss: 0.04543796554207802\n",
            "Epoch: 40 | Loss: 0.04543796554207802 | Test Loss: 0.11360953003168106\n",
            "OrderedDict([('weights', tensor([0.4748])), ('bias', tensor([0.3868]))])\n",
            "Loss: 0.04503796249628067\n",
            "Loss: 0.04463795945048332\n",
            "Loss: 0.04423796385526657\n",
            "Loss: 0.04383796453475952\n",
            "Loss: 0.04343796148896217\n",
            "Loss: 0.043074630200862885\n",
            "Loss: 0.04272563382983208\n",
            "Loss: 0.04237663000822067\n",
            "Loss: 0.04202762991189957\n",
            "Loss: 0.04167863354086876\n",
            "Epoch: 50 | Loss: 0.04167863354086876 | Test Loss: 0.09919948130846024\n",
            "OrderedDict([('weights', tensor([0.4938])), ('bias', tensor([0.3843]))])\n",
            "Loss: 0.04132963344454765\n",
            "Loss: 0.04098063334822655\n",
            "Loss: 0.04063162952661514\n",
            "Loss: 0.040282636880874634\n",
            "Loss: 0.039933640509843826\n",
            "Loss: 0.03958464413881302\n",
            "Loss: 0.03923564404249191\n",
            "Loss: 0.03888664394617081\n",
            "Loss: 0.0385376438498497\n",
            "Loss: 0.03818932920694351\n",
            "Epoch: 60 | Loss: 0.03818932920694351 | Test Loss: 0.08886633068323135\n",
            "OrderedDict([('weights', tensor([0.5116])), ('bias', tensor([0.3788]))])\n",
            "Loss: 0.03785243630409241\n",
            "Loss: 0.0375034399330616\n",
            "Loss: 0.037164121866226196\n",
            "Loss: 0.03681822493672371\n",
            "Loss: 0.03647511452436447\n",
            "Loss: 0.03613303601741791\n",
            "Loss: 0.03578609973192215\n",
            "Loss: 0.03544783592224121\n",
            "Loss: 0.035098835825920105\n",
            "Loss: 0.03476089984178543\n",
            "Epoch: 70 | Loss: 0.03476089984178543 | Test Loss: 0.0805937647819519\n",
            "OrderedDict([('weights', tensor([0.5288])), ('bias', tensor([0.3718]))])\n",
            "Loss: 0.03441363573074341\n",
            "Loss: 0.03407188132405281\n",
            "Loss: 0.03372843936085701\n",
            "Loss: 0.03338287025690079\n",
            "Loss: 0.033043231815099716\n",
            "Loss: 0.03269423171877861\n",
            "Loss: 0.032357655465602875\n",
            "Loss: 0.03200903534889221\n",
            "Loss: 0.03166864812374115\n",
            "Loss: 0.03132382780313492\n",
            "Epoch: 80 | Loss: 0.03132382780313492 | Test Loss: 0.07232122868299484\n",
            "OrderedDict([('weights', tensor([0.5459])), ('bias', tensor([0.3648]))])\n",
            "Loss: 0.030979642644524574\n",
            "Loss: 0.030638623982667923\n",
            "Loss: 0.0302906334400177\n",
            "Loss: 0.029953425750136375\n",
            "Loss: 0.02960442565381527\n",
            "Loss: 0.029265418648719788\n",
            "Loss: 0.028919223695993423\n",
            "Loss: 0.028576409444212914\n",
            "Loss: 0.028234025463461876\n",
            "Loss: 0.02788739837706089\n",
            "Epoch: 90 | Loss: 0.02788739837706089 | Test Loss: 0.06473556160926819\n",
            "OrderedDict([('weights', tensor([0.5629])), ('bias', tensor([0.3573]))])\n",
            "Loss: 0.02754882536828518\n",
            "Loss: 0.027199819684028625\n",
            "Loss: 0.026862185448408127\n",
            "Loss: 0.02651461586356163\n",
            "Loss: 0.026173178106546402\n",
            "Loss: 0.025829419493675232\n",
            "Loss: 0.02548416517674923\n",
            "Loss: 0.025144213810563087\n",
            "Loss: 0.02479521557688713\n"
          ]
        }
      ]
    },
    {
      "cell_type": "code",
      "source": [],
      "metadata": {
        "id": "Mg48ZErAQMvV"
      },
      "execution_count": 19,
      "outputs": []
    },
    {
      "cell_type": "code",
      "source": [
        "model_0.state_dict()"
      ],
      "metadata": {
        "colab": {
          "base_uri": "https://localhost:8080/"
        },
        "id": "Ag0ZURRrPpIV",
        "outputId": "d4a0ebd1-18a3-4d89-fb4a-b3af7d29a159"
      },
      "execution_count": 20,
      "outputs": [
        {
          "output_type": "execute_result",
          "data": {
            "text/plain": [
              "OrderedDict([('weights', tensor([0.5784])), ('bias', tensor([0.3513]))])"
            ]
          },
          "metadata": {},
          "execution_count": 20
        }
      ]
    },
    {
      "cell_type": "code",
      "source": [
        "with torch.inference_mode():\n",
        "  y_preds_new = model_0(X_test)\n",
        "\n",
        "plot_predictions(predictions=y_preds_new)"
      ],
      "metadata": {
        "colab": {
          "base_uri": "https://localhost:8080/",
          "height": 461
        },
        "id": "DA1u4T7ONANe",
        "outputId": "1dcde35f-ee6c-4864-8fe5-50ea74628d6d"
      },
      "execution_count": 21,
      "outputs": [
        {
          "output_type": "display_data",
          "data": {
            "text/plain": [
              "<Figure size 1000x700 with 1 Axes>"
            ],
            "image/png": "[encoded data removed]"
          },
          "metadata": {}
        }
      ]
    },
    {
      "cell_type": "code",
      "source": [
        "import numpy as np"
      ],
      "metadata": {
        "id": "IDgCxcn-SJZG"
      },
      "execution_count": 22,
      "outputs": []
    },
    {
      "cell_type": "code",
      "source": [
        "model_0.state_dict()"
      ],
      "metadata": {
        "colab": {
          "base_uri": "https://localhost:8080/"
        },
        "id": "tweWPp3rMFb1",
        "outputId": "ae2b8d63-8f0b-451d-fb83-724b890f7d4a"
      },
      "execution_count": 23,
      "outputs": [
        {
          "output_type": "execute_result",
          "data": {
            "text/plain": [
              "OrderedDict([('weights', tensor([0.5784])), ('bias', tensor([0.3513]))])"
            ]
          },
          "metadata": {},
          "execution_count": 23
        }
      ]
    },
    {
      "cell_type": "code",
      "source": [
        "plt.plot(epoch_count, np.array(torch.tensor(loss_values).numpy()), label='train_loss')\n",
        "plt.plot(epoch_count, test_loss_values, label='test_loss')\n",
        "plt.title(\"Training and Testing Loss Curves\")\n",
        "plt.ylabel(\"Loss\")\n",
        "plt.xlabel(\"Epochs\")\n",
        "plt.legend()"
      ],
      "metadata": {
        "colab": {
          "base_uri": "https://localhost:8080/",
          "height": 490
        },
        "id": "K_j_Z-u9R6kZ",
        "outputId": "bbda97af-2e77-4b88-84b7-0ff2ba0ad121"
      },
      "execution_count": 24,
      "outputs": [
        {
          "output_type": "execute_result",
          "data": {
            "text/plain": [
              "<matplotlib.legend.Legend at 0x7f9bd1558cd0>"
            ]
          },
          "metadata": {},
          "execution_count": 24
        },
        {
          "output_type": "display_data",
          "data": {
            "text/plain": [
              "<Figure size 640x480 with 1 Axes>"
            ],
            "image/png": "[encoded data removed]"
          },
          "metadata": {}
        }
      ]
    },
    {
      "cell_type": "markdown",
      "source": [
        "## Saving the Model in PyTorch\n",
        "\n",
        "There are three main methods you should about for saving and loading models in PyT.\n",
        "\n",
        "1) `torch.save()` - allows you to save a PyTorch object in Python's pickle format, pickle module implements binary protocols for serializing and de-serializing a Python object structure\n",
        "\n",
        "2) `torch.load()` - allows you to load a saved PyTorch object.\n",
        "\n",
        "3) `torch.nn.Module.load_state_dict()` - this allows to load a model's saved state dictionary"
      ],
      "metadata": {
        "id": "hrWBanReMFAX"
      }
    },
    {
      "cell_type": "code",
      "source": [
        "# Saving our model\n",
        "from pathlib import Path # python module for dealing with file paths\n",
        "\n",
        "# 1. create model directory\n",
        "MODEL_PATH = Path(\"models\")\n",
        "MODEL_PATH.mkdir(parents=True, exist_ok=True) # if it already exists, wont give us an error\n",
        "\n",
        "# 2. create model save path\n",
        "MODEL_NAME = \"01model_linear_regression.pth\"\n",
        "MODEL_SAVE_PATH = MODEL_PATH / MODEL_NAME\n",
        "\n",
        "MODEL_SAVE_PATH\n",
        "\n",
        "# 3. save the model's state dict\n",
        "torch.save(obj = model_0.state_dict(), f=MODEL_SAVE_PATH)\n"
      ],
      "metadata": {
        "id": "XGpg_nNuS1By"
      },
      "execution_count": 25,
      "outputs": []
    },
    {
      "cell_type": "code",
      "source": [
        "!ls -l models"
      ],
      "metadata": {
        "colab": {
          "base_uri": "https://localhost:8080/"
        },
        "id": "wqAv-EX_VDld",
        "outputId": "db28f02c-1600-42a7-b3f3-15d288ad9db0"
      },
      "execution_count": 26,
      "outputs": [
        {
          "output_type": "stream",
          "name": "stdout",
          "text": [
            "total 4\n",
            "-rw-r--r-- 1 root root 1668 Jun 25 05:19 01model_linear_regression.pth\n"
          ]
        }
      ]
    },
    {
      "cell_type": "markdown",
      "source": [
        "### Loading the model\n",
        "\n",
        "Since we saved our model's state dict, we'll create a new instance of our model calss and load the saved state dict into that."
      ],
      "metadata": {
        "id": "mU4VN-6FhVqs"
      }
    },
    {
      "cell_type": "code",
      "source": [
        "# to load, we have to instantiate a new instance of our model class\n",
        "\n",
        "loaded_model_0 = LinearRegressionModel()\n",
        "\n",
        "# load (this will update the new instance with updated parameters)\n",
        "\n",
        "loaded_model_0.load_state_dict(torch.load(f=MODEL_SAVE_PATH))"
      ],
      "metadata": {
        "colab": {
          "base_uri": "https://localhost:8080/"
        },
        "id": "etqG49w6VsvM",
        "outputId": "be0e50a7-fa74-4045-e046-e03350b2e1c8"
      },
      "execution_count": 29,
      "outputs": [
        {
          "output_type": "execute_result",
          "data": {
            "text/plain": [
              "<All keys matched successfully>"
            ]
          },
          "metadata": {},
          "execution_count": 29
        }
      ]
    },
    {
      "cell_type": "code",
      "source": [
        "loaded_model_0.state_dict()"
      ],
      "metadata": {
        "colab": {
          "base_uri": "https://localhost:8080/"
        },
        "id": "9xWtlCrThtBx",
        "outputId": "e1f01eb8-d258-40e1-c21e-031d6fa1aa2e"
      },
      "execution_count": 31,
      "outputs": [
        {
          "output_type": "execute_result",
          "data": {
            "text/plain": [
              "OrderedDict([('weights', tensor([0.5784])), ('bias', tensor([0.3513]))])"
            ]
          },
          "metadata": {},
          "execution_count": 31
        }
      ]
    },
    {
      "cell_type": "code",
      "source": [
        "\n",
        "loaded_model_0.eval()\n",
        "with torch.inference_mode():\n",
        "  loaded_model_preds = loaded_model_0(X_test)\n",
        "  plot_predictions(predictions = loaded_model_preds)"
      ],
      "metadata": {
        "colab": {
          "base_uri": "https://localhost:8080/",
          "height": 461
        },
        "id": "BXO0YLVKiDYp",
        "outputId": "20a64a6f-aa6c-4e26-996f-1aca32e15637"
      },
      "execution_count": 33,
      "outputs": [
        {
          "output_type": "display_data",
          "data": {
            "text/plain": [
              "<Figure size 1000x700 with 1 Axes>"
            ],
            "image/png": "[encoded data removed]"
          },
          "metadata": {}
        }
      ]
    },
    {
      "cell_type": "code",
      "source": [
        "y_preds == loaded_model_preds"
      ],
      "metadata": {
        "colab": {
          "base_uri": "https://localhost:8080/"
        },
        "id": "e6gW_hw4iU3Z",
        "outputId": "4e3f8cd5-982a-4df6-d875-e442fa513724"
      },
      "execution_count": 35,
      "outputs": [
        {
          "output_type": "execute_result",
          "data": {
            "text/plain": [
              "tensor([[True],\n",
              "        [True],\n",
              "        [True],\n",
              "        [True],\n",
              "        [True],\n",
              "        [True],\n",
              "        [True],\n",
              "        [True],\n",
              "        [True],\n",
              "        [True]])"
            ]
          },
          "metadata": {},
          "execution_count": 35
        }
      ]
    },
    {
      "cell_type": "markdown",
      "source": [
        "## 6 Putting it all together"
      ],
      "metadata": {
        "id": "WEPKQxxFimUt"
      }
    },
    {
      "cell_type": "code",
      "source": [
        "# Import PyTorch and matplotlib\n",
        "\n",
        "import numpy as np\n",
        "import torch\n",
        "from torch import nn\n",
        "import matplotlib.pyplot as plt\n",
        "\n",
        "# Check torch version\n",
        "torch.__version__"
      ],
      "metadata": {
        "colab": {
          "base_uri": "https://localhost:8080/",
          "height": 35
        },
        "id": "xVn2e9Ygi0z3",
        "outputId": "12a4a619-e70f-4b53-818c-4c8b2d1d26c4"
      },
      "execution_count": 36,
      "outputs": [
        {
          "output_type": "execute_result",
          "data": {
            "text/plain": [
              "'2.6.0+cu124'"
            ],
            "application/vnd.google.colaboratory.intrinsic+json": {
              "type": "string"
            }
          },
          "metadata": {},
          "execution_count": 36
        }
      ]
    },
    {
      "cell_type": "markdown",
      "source": [
        "##### Create device agnostic code.\n",
        "\n",
        "This mean if we have got access to GPU, our code will use it (for potentially faster computing)\n",
        "\n",
        "if no GPU is available, the code will default to using CPU"
      ],
      "metadata": {
        "id": "bjwyem8ajK2j"
      }
    },
    {
      "cell_type": "code",
      "source": [
        "# Setup device agnostic code\n",
        "\n",
        "device = \"cuda\" if torch.cuda.is_available() else \"cpu\"\n",
        "print(f\"Using device: {device}\")"
      ],
      "metadata": {
        "colab": {
          "base_uri": "https://localhost:8080/"
        },
        "id": "fs2IQZVyjFrF",
        "outputId": "4ef0da38-8e43-445f-e0db-4845d9ac6893"
      },
      "execution_count": 37,
      "outputs": [
        {
          "output_type": "stream",
          "name": "stdout",
          "text": [
            "Using device: cuda\n"
          ]
        }
      ]
    },
    {
      "cell_type": "markdown",
      "source": [
        "### 6.1 Data"
      ],
      "metadata": {
        "id": "VR-wXHKejg3y"
      }
    },
    {
      "cell_type": "code",
      "source": [
        "# Create some data using the linear regression formula of y = weight * x + bias\n",
        "\n",
        "weight = 0.6\n",
        "bias = 0.4\n",
        "\n",
        "# Create range values\n",
        "\n",
        "start = 0\n",
        "end = 1\n",
        "step = 0.02\n",
        "\n",
        "# Create X and y (features and labels)\n",
        "X = torch.arange(start, end, step).unsqueeze(dim=1)\n",
        "y = weight * X + bias"
      ],
      "metadata": {
        "id": "Bi395S28jfhl"
      },
      "execution_count": 40,
      "outputs": []
    },
    {
      "cell_type": "code",
      "source": [
        "# Splitting the data\n",
        "\n",
        "train_split = int(0.8 * int(len(X)))\n",
        "X_train, y_train = X[:train_split], y[:train_split]\n",
        "X_test, y_test = X[train_split:], y[train_split:]\n",
        "len(X_train), len(y_train), len(X_test), len(y_test)"
      ],
      "metadata": {
        "colab": {
          "base_uri": "https://localhost:8080/"
        },
        "id": "83IcuJTGkCyd",
        "outputId": "4eef2130-8547-44a7-a1f1-f9a8b75da594"
      },
      "execution_count": 42,
      "outputs": [
        {
          "output_type": "execute_result",
          "data": {
            "text/plain": [
              "(40, 40, 10, 10)"
            ]
          },
          "metadata": {},
          "execution_count": 42
        }
      ]
    },
    {
      "cell_type": "code",
      "source": [
        "def plot_predictions(train_data = X_train, train_labels = y_train,\n",
        "                     test_data = X_test, test_labels = y_test, predictions=None):\n",
        "  \"\"\"Plots training data, test data and compares predictions.\"\"\"\n",
        "  plt.figure(figsize=(10,7))\n",
        "\n",
        "  plt.scatter(train_data, train_labels, c=\"b\", s=4, label=\"Training data\")\n",
        "\n",
        "  plt.scatter(test_data, test_labels, c=\"g\", s=4, label=\"Testing data\")\n",
        "\n",
        "  if predictions is not None:\n",
        "    # Plot predictions if they exist\n",
        "    plt.scatter(test_data, predictions, c=\"r\", s=4, label=\"Predictions\")\n",
        "\n",
        "  plt.legend(prop={\"size\": 14})"
      ],
      "metadata": {
        "id": "uaDPzxOfkhbZ"
      },
      "execution_count": 43,
      "outputs": []
    },
    {
      "cell_type": "code",
      "source": [
        " plot_predictions()"
      ],
      "metadata": {
        "colab": {
          "base_uri": "https://localhost:8080/",
          "height": 619
        },
        "id": "iBGELlw_kh5m",
        "outputId": "d74d11da-055b-420b-df8e-f4d2b32bf180"
      },
      "execution_count": 45,
      "outputs": [
        {
          "output_type": "display_data",
          "data": {
            "text/plain": [
              "<Figure size 1000x700 with 1 Axes>"
            ],
            "image/png": "[encoded data removed]"
          },
          "metadata": {}
        }
      ]
    },
    {
      "cell_type": "markdown",
      "source": [
        "### 6.2 Building a PyTorch Linear Model"
      ],
      "metadata": {
        "id": "xybGBD2dkpEz"
      }
    },
    {
      "cell_type": "code",
      "source": [
        "# create a linear model by subclassing nn.Module\n",
        "\n",
        "class LinearRegressionModelV2(nn.Module):\n",
        "  def __init__(self):\n",
        "    super().__init__()\n",
        "    # instead of initializing parameters, use a linear layer - nn.Linear()\n",
        "    self.linear_layer = nn.Linear(in_features = 1, out_features=1) # one value of X gives out one value of y, it is implementing LR for us\n",
        "    # also called linear transform, probing layer, fully connected layer, dense layer (in tensorflow)\n",
        "\n",
        "  def forward(self, x: torch.Tensor) -> torch.Tensor:\n",
        "    return self.linear_layer(x)\n",
        "\n",
        "# Set the manual seed\n",
        "\n",
        "torch.manual_seed(42)\n",
        "model_1 = LinearRegressionModelV2()\n",
        "model_1, model_1.state_dict()"
      ],
      "metadata": {
        "colab": {
          "base_uri": "https://localhost:8080/"
        },
        "id": "cNcnZ2aekmuC",
        "outputId": "bfe09b44-4274-40c7-ff3c-4949f38ead13"
      },
      "execution_count": 46,
      "outputs": [
        {
          "output_type": "execute_result",
          "data": {
            "text/plain": [
              "(LinearRegressionModelV2(\n",
              "   (linear_layer): Linear(in_features=1, out_features=1, bias=True)\n",
              " ),\n",
              " OrderedDict([('linear_layer.weight', tensor([[0.7645]])),\n",
              "              ('linear_layer.bias', tensor([0.8300]))]))"
            ]
          },
          "metadata": {},
          "execution_count": 46
        }
      ]
    },
    {
      "cell_type": "code",
      "source": [
        "# Check the model current device\n",
        "next(model_1.parameters()).device"
      ],
      "metadata": {
        "colab": {
          "base_uri": "https://localhost:8080/"
        },
        "id": "-kcrBuJpmbG8",
        "outputId": "9bc3340a-4420-427c-ee6e-9fd13b3f8df5"
      },
      "execution_count": 47,
      "outputs": [
        {
          "output_type": "execute_result",
          "data": {
            "text/plain": [
              "device(type='cpu')"
            ]
          },
          "metadata": {},
          "execution_count": 47
        }
      ]
    },
    {
      "cell_type": "code",
      "source": [
        "# Set the model to use the target device\n",
        "\n",
        "model_1.to(device)\n",
        "next(model_1.parameters()).device"
      ],
      "metadata": {
        "colab": {
          "base_uri": "https://localhost:8080/"
        },
        "id": "DnmrLv1smDDG",
        "outputId": "6e7ef116-9088-4906-9722-09f0a9872601"
      },
      "execution_count": 49,
      "outputs": [
        {
          "output_type": "execute_result",
          "data": {
            "text/plain": [
              "device(type='cuda', index=0)"
            ]
          },
          "metadata": {},
          "execution_count": 49
        }
      ]
    },
    {
      "cell_type": "markdown",
      "source": [
        "### 6.3 Training\n",
        "\n",
        "For training we need a loss function, an optimizer and a training and testing loop."
      ],
      "metadata": {
        "id": "pu8HNaLWmm5r"
      }
    },
    {
      "cell_type": "code",
      "source": [
        "# Set up loss function\n",
        "\n",
        "loss_fn = nn.L1Loss()\n",
        "\n",
        "# Set up optimizer\n",
        "\n",
        "optimizer = torch.optim.SGD(params=model_1.parameters(), lr = 0.01)"
      ],
      "metadata": {
        "id": "cXfmqxxPmgbH"
      },
      "execution_count": 50,
      "outputs": []
    },
    {
      "cell_type": "code",
      "source": [
        "# Let's write a training loop\n",
        "\n",
        "torch.manual_seed(42)\n",
        "\n",
        "epochs = 200\n",
        "\n",
        "# Put data on the device (GPU rn its still on CPU, while our model is on cuda) - device agnostic code\n",
        "X_train = X_train.to(device)\n",
        "y_train = y_train.to(device)\n",
        "X_test = X_test.to(device)\n",
        "y_test = y_test.to(device)\n",
        "\n",
        "\n",
        "for epoch in range(epochs):\n",
        "\n",
        "  model_1.train()\n",
        "\n",
        "  # 1. Forward pass\n",
        "  y_pred = model_1(X_train)\n",
        "\n",
        "  # 2. Calculate the loss\n",
        "  loss = loss_fn(y_pred, y_train)\n",
        "\n",
        "  # 3. Optimizer zero grad\n",
        "  optimizer.zero_grad()\n",
        "\n",
        "  # 4. Backprop\n",
        "  loss.backward()\n",
        "\n",
        "  # 5. Optimizer\n",
        "  optimizer.step()\n",
        "\n",
        "  ### Testing:\n",
        "  model_1.eval()\n",
        "  with torch.inference_mode():\n",
        "    test_pred = model_1(X_test)\n",
        "\n",
        "    test_loss = loss_fn(test_pred,y_test)\n",
        "\n",
        "  # Print out\n",
        "  if epoch % 20 == 0:\n",
        "    print(f'Epoch: {epoch} | Loss: {loss} | Test Loss: {test_loss}')\n",
        "    print(model_1.state_dict())"
      ],
      "metadata": {
        "colab": {
          "base_uri": "https://localhost:8080/"
        },
        "id": "FXpbRLudm_Hc",
        "outputId": "69e3509e-3adc-45de-e44a-1f6ebc1560af"
      },
      "execution_count": 51,
      "outputs": [
        {
          "output_type": "stream",
          "name": "stdout",
          "text": [
            "Epoch: 0 | Loss: 0.494177907705307 | Test Loss: 0.5629762411117554\n",
            "OrderedDict([('linear_layer.weight', tensor([[0.7606]], device='cuda:0')), ('linear_layer.bias', tensor([0.8200], device='cuda:0'))])\n",
            "Epoch: 20 | Loss: 0.26375818252563477 | Test Loss: 0.2935565710067749\n",
            "OrderedDict([('linear_layer.weight', tensor([[0.6826]], device='cuda:0')), ('linear_layer.bias', tensor([0.6200], device='cuda:0'))])\n",
            "Epoch: 40 | Loss: 0.033338434994220734 | Test Loss: 0.024136889725923538\n",
            "OrderedDict([('linear_layer.weight', tensor([[0.6046]], device='cuda:0')), ('linear_layer.bias', tensor([0.4200], device='cuda:0'))])\n",
            "Epoch: 60 | Loss: 0.009796462021768093 | Test Loss: 0.00330507755279541\n",
            "OrderedDict([('linear_layer.weight', tensor([[0.5968]], device='cuda:0')), ('linear_layer.bias', tensor([0.3995], device='cuda:0'))])\n",
            "Epoch: 80 | Loss: 0.009796462021768093 | Test Loss: 0.00330507755279541\n",
            "OrderedDict([('linear_layer.weight', tensor([[0.5968]], device='cuda:0')), ('linear_layer.bias', tensor([0.3995], device='cuda:0'))])\n",
            "Epoch: 100 | Loss: 0.009796462021768093 | Test Loss: 0.00330507755279541\n",
            "OrderedDict([('linear_layer.weight', tensor([[0.5968]], device='cuda:0')), ('linear_layer.bias', tensor([0.3995], device='cuda:0'))])\n",
            "Epoch: 120 | Loss: 0.009796462021768093 | Test Loss: 0.00330507755279541\n",
            "OrderedDict([('linear_layer.weight', tensor([[0.5968]], device='cuda:0')), ('linear_layer.bias', tensor([0.3995], device='cuda:0'))])\n",
            "Epoch: 140 | Loss: 0.009796462021768093 | Test Loss: 0.00330507755279541\n",
            "OrderedDict([('linear_layer.weight', tensor([[0.5968]], device='cuda:0')), ('linear_layer.bias', tensor([0.3995], device='cuda:0'))])\n",
            "Epoch: 160 | Loss: 0.009796462021768093 | Test Loss: 0.00330507755279541\n",
            "OrderedDict([('linear_layer.weight', tensor([[0.5968]], device='cuda:0')), ('linear_layer.bias', tensor([0.3995], device='cuda:0'))])\n",
            "Epoch: 180 | Loss: 0.009796462021768093 | Test Loss: 0.00330507755279541\n",
            "OrderedDict([('linear_layer.weight', tensor([[0.5968]], device='cuda:0')), ('linear_layer.bias', tensor([0.3995], device='cuda:0'))])\n"
          ]
        }
      ]
    },
    {
      "cell_type": "code",
      "source": [
        "model_1.state_dict()"
      ],
      "metadata": {
        "colab": {
          "base_uri": "https://localhost:8080/"
        },
        "id": "0Dcct31koCTF",
        "outputId": "15c6f939-f11f-444a-af5f-40bf18df0f1f"
      },
      "execution_count": 52,
      "outputs": [
        {
          "output_type": "execute_result",
          "data": {
            "text/plain": [
              "OrderedDict([('linear_layer.weight', tensor([[0.6007]], device='cuda:0')),\n",
              "             ('linear_layer.bias', tensor([0.4095], device='cuda:0'))])"
            ]
          },
          "metadata": {},
          "execution_count": 52
        }
      ]
    },
    {
      "cell_type": "code",
      "source": [
        "weight, bias"
      ],
      "metadata": {
        "colab": {
          "base_uri": "https://localhost:8080/"
        },
        "id": "pZHEC7BAoHHr",
        "outputId": "8ecbbe68-909f-4b2c-cd9f-47a13279c361"
      },
      "execution_count": 53,
      "outputs": [
        {
          "output_type": "execute_result",
          "data": {
            "text/plain": [
              "(0.6, 0.4)"
            ]
          },
          "metadata": {},
          "execution_count": 53
        }
      ]
    },
    {
      "cell_type": "markdown",
      "source": [
        "### 6.4 Making and evaluating predictions"
      ],
      "metadata": {
        "id": "OLmboHm-o7WA"
      }
    },
    {
      "cell_type": "code",
      "source": [
        "# Turn into eval mode\n",
        "model_1.eval()\n",
        "\n",
        "with torch.inference_mode():\n",
        "  y_preds = model_1(X_test)\n",
        "  y_preds = y_preds.to(\"cpu\")\n",
        "  plot_predictions(predictions = y_preds)\n",
        "  # or plot_predictions(predictions = y_preds.cpu())"
      ],
      "metadata": {
        "colab": {
          "base_uri": "https://localhost:8080/",
          "height": 461
        },
        "id": "lxWhecKioLeQ",
        "outputId": "bd27cd15-c964-4ac9-b9cd-34460bc44d6e"
      },
      "execution_count": 63,
      "outputs": [
        {
          "output_type": "display_data",
          "data": {
            "text/plain": [
              "<Figure size 1000x700 with 1 Axes>"
            ],
            "image/png": "[encoded data removed]"
          },
          "metadata": {}
        }
      ]
    },
    {
      "cell_type": "markdown",
      "source": [
        "### 6.5 Saving and loading a trained model"
      ],
      "metadata": {
        "id": "j-chVsPloPqJ"
      }
    },
    {
      "cell_type": "code",
      "source": [
        "from pathlib import Path\n",
        "\n",
        "\n",
        "# 1. create model directory\n",
        "MODEL_PATH = Path(\"models\")\n",
        "MODEL_PATH.mkdir(parents=True, exist_ok=True) # if it already exists, wont give us an error\n",
        "\n",
        "# 2. create model save path\n",
        "MODEL_NAME = \"01model_linear_regression_v2.pth\"\n",
        "MODEL_SAVE_PATH = MODEL_PATH / MODEL_NAME\n",
        "\n",
        "MODEL_SAVE_PATH\n",
        "\n",
        "# 3. save the model's state dict\n",
        "torch.save(obj = model_1.state_dict(), f=MODEL_SAVE_PATH)"
      ],
      "metadata": {
        "id": "Lqzw3RdTpUge"
      },
      "execution_count": 64,
      "outputs": []
    },
    {
      "cell_type": "code",
      "source": [
        "# Load a Pytorch model\n",
        "\n",
        "model_1_v2 = LinearRegressionModelV2()\n",
        "\n",
        "model_1_v2.load_state_dict(torch.load(f=MODEL_SAVE_PATH))\n",
        "\n",
        "# Put loaded model on device\n",
        "model_1_v2.to(device)"
      ],
      "metadata": {
        "colab": {
          "base_uri": "https://localhost:8080/"
        },
        "id": "ZAX4YhwTpjG3",
        "outputId": "0f740bdb-693c-4896-872b-8644afd77206"
      },
      "execution_count": 68,
      "outputs": [
        {
          "output_type": "execute_result",
          "data": {
            "text/plain": [
              "LinearRegressionModelV2(\n",
              "  (linear_layer): Linear(in_features=1, out_features=1, bias=True)\n",
              ")"
            ]
          },
          "metadata": {},
          "execution_count": 68
        }
      ]
    },
    {
      "cell_type": "code",
      "source": [
        "model_1_v2.state_dict()"
      ],
      "metadata": {
        "colab": {
          "base_uri": "https://localhost:8080/"
        },
        "id": "wp5F0Ggip8z1",
        "outputId": "08c1ec77-b573-4413-90fb-09a0964c2ef0"
      },
      "execution_count": 69,
      "outputs": [
        {
          "output_type": "execute_result",
          "data": {
            "text/plain": [
              "OrderedDict([('linear_layer.weight', tensor([[0.6007]], device='cuda:0')),\n",
              "             ('linear_layer.bias', tensor([0.4095], device='cuda:0'))])"
            ]
          },
          "metadata": {},
          "execution_count": 69
        }
      ]
    },
    {
      "cell_type": "code",
      "source": [
        "# Evaluate laoded model\n",
        "model_1_v2.eval()\n",
        "\n",
        "with torch.inference_mode():\n",
        "  loaded_preds = model_1_v2(X_test)\n",
        "  plot_predictions(predictions = loaded_preds.cpu())"
      ],
      "metadata": {
        "colab": {
          "base_uri": "https://localhost:8080/",
          "height": 461
        },
        "id": "8ZTgD6pkqBET",
        "outputId": "00a99efc-f1f1-40c3-ecca-b9959c84f3f9"
      },
      "execution_count": 70,
      "outputs": [
        {
          "output_type": "display_data",
          "data": {
            "text/plain": [
              "<Figure size 1000x700 with 1 Axes>"
            ],
            "image/png": "[encoded data removed]"
          },
          "metadata": {}
        }
      ]
    },
    {
      "cell_type": "code",
      "source": [
        "y_preds.cpu() == loaded_preds.cpu()"
      ],
      "metadata": {
        "colab": {
          "base_uri": "https://localhost:8080/"
        },
        "id": "Aq2eUaMiqbmI",
        "outputId": "97ddbd54-3cbd-40bd-f7e0-3a292ab6b3fb"
      },
      "execution_count": 72,
      "outputs": [
        {
          "output_type": "execute_result",
          "data": {
            "text/plain": [
              "tensor([[True],\n",
              "        [True],\n",
              "        [True],\n",
              "        [True],\n",
              "        [True],\n",
              "        [True],\n",
              "        [True],\n",
              "        [True],\n",
              "        [True],\n",
              "        [True]])"
            ]
          },
          "metadata": {},
          "execution_count": 72
        }
      ]
    },
    {
      "cell_type": "code",
      "source": [],
      "metadata": {
        "id": "fFUm91K5qeiJ"
      },
      "execution_count": null,
      "outputs": []
    }
  ]
}