{
  "nbformat": 4,
  "nbformat_minor": 0,
  "metadata": {
    "colab": {
      "provenance": [],
      "authorship_tag": "ABX9TyPMfHaaCvrwJitSJXNwTkP7"
    },
    "kernelspec": {
      "name": "python3",
      "display_name": "Python 3"
    },
    "language_info": {
      "name": "python"
    }
  },
  "cells": [
    {
      "cell_type": "markdown",
      "source": [
        "### 00. First Tutorial - PyTorch, Using T4- GPU\n",
        "\n",
        "Resource notebook: https://www.learnpytorch.io/00_pytorch_fundamentals/\n",
        "\n",
        "Question: https://github.com/mrdbourke/pytorch-deep-learning/discussions"
      ],
      "metadata": {
        "id": "NavILag-VpFO"
      }
    },
    {
      "cell_type": "code",
      "source": [
        "!nvidia-smi - # if using GPU"
      ],
      "metadata": {
        "colab": {
          "base_uri": "https://localhost:8080/"
        },
        "id": "jCgReMYpVrBP",
        "outputId": "92e502d3-754d-447a-c6c3-8cbee049ee69"
      },
      "execution_count": null,
      "outputs": [
        {
          "output_type": "stream",
          "name": "stdout",
          "text": [
            "/bin/bash: line 1: nvidia-smi: command not found\n"
          ]
        }
      ]
    },
    {
      "cell_type": "markdown",
      "source": [
        "#### Importing Libraries"
      ],
      "metadata": {
        "id": "Vbug506wZFQf"
      }
    },
    {
      "cell_type": "code",
      "source": [
        "import torch\n",
        "import numpy as np\n",
        "import pandas as pd\n",
        "import matplotlib.pyplot as plt"
      ],
      "metadata": {
        "id": "jEZAkdk5VyB2"
      },
      "execution_count": null,
      "outputs": []
    },
    {
      "cell_type": "markdown",
      "source": [
        "#### Checking torch version"
      ],
      "metadata": {
        "id": "62cWSHzvZH8l"
      }
    },
    {
      "cell_type": "code",
      "source": [
        "print(torch.__version__)"
      ],
      "metadata": {
        "colab": {
          "base_uri": "https://localhost:8080/"
        },
        "id": "XOw7Ena1ZESq",
        "outputId": "c8d16e34-3ac5-4637-e6e7-6210be4d2f01"
      },
      "execution_count": null,
      "outputs": [
        {
          "output_type": "stream",
          "name": "stdout",
          "text": [
            "2.6.0+cu124\n"
          ]
        }
      ]
    },
    {
      "cell_type": "markdown",
      "source": [
        "### Introduction to Tensors"
      ],
      "metadata": {
        "id": "6_sNYKV8Z48R"
      }
    },
    {
      "cell_type": "markdown",
      "source": [
        "  #### Creating Tensors"
      ],
      "metadata": {
        "id": "XFOROY3dZ6yp"
      }
    },
    {
      "cell_type": "code",
      "source": [
        "# scalar\n",
        "# a torch.Tensor is a multi-dimensional matrix containing elements of a single data type.\n",
        "\n",
        "scalar = torch.tensor(7) # to create PyTorch tensors\n",
        "scalar"
      ],
      "metadata": {
        "colab": {
          "base_uri": "https://localhost:8080/"
        },
        "id": "CuG07xfdaa20",
        "outputId": "d732ce3d-605b-460e-eb3a-bbc3b94dda5d"
      },
      "execution_count": null,
      "outputs": [
        {
          "output_type": "execute_result",
          "data": {
            "text/plain": [
              "tensor(7)"
            ]
          },
          "metadata": {},
          "execution_count": 4
        }
      ]
    },
    {
      "cell_type": "code",
      "source": [
        "# attributes of a scalar\n",
        "\n",
        "scalar.ndim"
      ],
      "metadata": {
        "colab": {
          "base_uri": "https://localhost:8080/"
        },
        "id": "HofEgw4WapCI",
        "outputId": "df32d004-43ef-4b89-f8f1-298e83201bdd"
      },
      "execution_count": null,
      "outputs": [
        {
          "output_type": "execute_result",
          "data": {
            "text/plain": [
              "0"
            ]
          },
          "metadata": {},
          "execution_count": 5
        }
      ]
    },
    {
      "cell_type": "code",
      "source": [
        "# Get number out of tensor type - Get it back as a python int\n",
        "\n",
        "scalar.item()"
      ],
      "metadata": {
        "colab": {
          "base_uri": "https://localhost:8080/"
        },
        "id": "aRoOBaS9bPZC",
        "outputId": "f20169d3-9983-48ac-b096-f168a86e13f1"
      },
      "execution_count": null,
      "outputs": [
        {
          "output_type": "execute_result",
          "data": {
            "text/plain": [
              "7"
            ]
          },
          "metadata": {},
          "execution_count": 6
        }
      ]
    },
    {
      "cell_type": "code",
      "source": [
        "# Vector\n",
        "\n",
        "vector = torch.tensor([7,7]) # number of dimensions = number of square brackets\n",
        "vector"
      ],
      "metadata": {
        "colab": {
          "base_uri": "https://localhost:8080/"
        },
        "id": "wlRzf55gbqTk",
        "outputId": "bddf63bf-9696-4c68-c222-fa36eef31b56"
      },
      "execution_count": null,
      "outputs": [
        {
          "output_type": "execute_result",
          "data": {
            "text/plain": [
              "tensor([7, 7])"
            ]
          },
          "metadata": {},
          "execution_count": 7
        }
      ]
    },
    {
      "cell_type": "code",
      "source": [
        "vector.shape"
      ],
      "metadata": {
        "colab": {
          "base_uri": "https://localhost:8080/"
        },
        "id": "ArNZcEykb0Gu",
        "outputId": "a9603068-7b58-4b05-ee19-fe4c377d69a2"
      },
      "execution_count": null,
      "outputs": [
        {
          "output_type": "execute_result",
          "data": {
            "text/plain": [
              "torch.Size([2])"
            ]
          },
          "metadata": {},
          "execution_count": 8
        }
      ]
    },
    {
      "cell_type": "code",
      "source": [
        "# MATRIX\n",
        "\n",
        "MATRIX = torch.tensor([[5,6],[7,8]])\n",
        "MATRIX"
      ],
      "metadata": {
        "colab": {
          "base_uri": "https://localhost:8080/"
        },
        "id": "MH85RE7Sb8gg",
        "outputId": "e57fad49-0ae5-44aa-88eb-246b3092179a"
      },
      "execution_count": null,
      "outputs": [
        {
          "output_type": "execute_result",
          "data": {
            "text/plain": [
              "tensor([[5, 6],\n",
              "        [7, 8]])"
            ]
          },
          "metadata": {},
          "execution_count": 9
        }
      ]
    },
    {
      "cell_type": "code",
      "source": [
        "MATRIX.ndim # ndim gives us the rank of the tensor?"
      ],
      "metadata": {
        "colab": {
          "base_uri": "https://localhost:8080/"
        },
        "id": "09xhphZTcsv2",
        "outputId": "db82fd5f-0142-4634-c9b6-379d666751e5"
      },
      "execution_count": null,
      "outputs": [
        {
          "output_type": "execute_result",
          "data": {
            "text/plain": [
              "2"
            ]
          },
          "metadata": {},
          "execution_count": 10
        }
      ]
    },
    {
      "cell_type": "code",
      "source": [
        "MATRIX.shape"
      ],
      "metadata": {
        "colab": {
          "base_uri": "https://localhost:8080/"
        },
        "id": "ZWANYDYZcygL",
        "outputId": "8249a03c-c8b3-43da-e4ff-515d906f8fb7"
      },
      "execution_count": null,
      "outputs": [
        {
          "output_type": "execute_result",
          "data": {
            "text/plain": [
              "torch.Size([2, 2])"
            ]
          },
          "metadata": {},
          "execution_count": 11
        }
      ]
    },
    {
      "cell_type": "code",
      "source": [
        "# TENSOR - documentation is capital/uppercase for matrices and tensors\n",
        "\n",
        "TENSOR = torch.tensor([[[1,2],[4,5],[7,8]]])\n",
        "\n",
        "TENSOR"
      ],
      "metadata": {
        "colab": {
          "base_uri": "https://localhost:8080/"
        },
        "id": "9qo9Gg9Lesob",
        "outputId": "3b6395b6-2699-4667-c644-da13b6f82b23"
      },
      "execution_count": null,
      "outputs": [
        {
          "output_type": "execute_result",
          "data": {
            "text/plain": [
              "tensor([[[1, 2],\n",
              "         [4, 5],\n",
              "         [7, 8]]])"
            ]
          },
          "metadata": {},
          "execution_count": 12
        }
      ]
    },
    {
      "cell_type": "code",
      "source": [
        "TENSOR.ndim"
      ],
      "metadata": {
        "colab": {
          "base_uri": "https://localhost:8080/"
        },
        "id": "woV01hqQe8E-",
        "outputId": "079f776d-536f-4a04-bfb6-69aa78f13e01"
      },
      "execution_count": null,
      "outputs": [
        {
          "output_type": "execute_result",
          "data": {
            "text/plain": [
              "3"
            ]
          },
          "metadata": {},
          "execution_count": 13
        }
      ]
    },
    {
      "cell_type": "code",
      "source": [
        "TENSOR.shape"
      ],
      "metadata": {
        "colab": {
          "base_uri": "https://localhost:8080/"
        },
        "id": "TUuQVNXZfFVF",
        "outputId": "5616d622-9092-4ad4-f9c4-25b99ef0d3fa"
      },
      "execution_count": null,
      "outputs": [
        {
          "output_type": "execute_result",
          "data": {
            "text/plain": [
              "torch.Size([1, 3, 2])"
            ]
          },
          "metadata": {},
          "execution_count": 14
        }
      ]
    },
    {
      "cell_type": "code",
      "source": [
        "TENSOR[0]"
      ],
      "metadata": {
        "colab": {
          "base_uri": "https://localhost:8080/"
        },
        "id": "zCeiSAvIfHME",
        "outputId": "88480bb8-788d-402b-8924-13cfc68bd539"
      },
      "execution_count": null,
      "outputs": [
        {
          "output_type": "execute_result",
          "data": {
            "text/plain": [
              "tensor([[1, 2],\n",
              "        [4, 5],\n",
              "        [7, 8]])"
            ]
          },
          "metadata": {},
          "execution_count": 15
        }
      ]
    },
    {
      "cell_type": "code",
      "source": [
        "TENSOR[0][0][0]"
      ],
      "metadata": {
        "colab": {
          "base_uri": "https://localhost:8080/"
        },
        "id": "6w-bmlxTfP0u",
        "outputId": "b23ccc53-0d2a-437d-956e-12b81cf59c96"
      },
      "execution_count": null,
      "outputs": [
        {
          "output_type": "execute_result",
          "data": {
            "text/plain": [
              "tensor(1)"
            ]
          },
          "metadata": {},
          "execution_count": 16
        }
      ]
    },
    {
      "cell_type": "markdown",
      "source": [
        "### Random Tensors\n",
        "\n",
        "Why random tensors?\n",
        "\n",
        "Random tensors are important because the way many NNs learn is that they start with tensors full of random numbers and then they adjust those random numbers to better represent the data.\n",
        "\n",
        "`Start with random numbers -> Look at data -> Update random numbers -> Look at data -> Update the numbers`\n",
        "\n",
        "Documentat"
      ],
      "metadata": {
        "id": "REU0s-7Af0U-"
      }
    },
    {
      "cell_type": "code",
      "source": [
        "# Creating a random tensor of size/shape  (3,4)\n",
        "\n",
        "random_tensor = torch.rand(3,4)\n",
        "random_tensor"
      ],
      "metadata": {
        "colab": {
          "base_uri": "https://localhost:8080/"
        },
        "id": "XUBlLsV-fSGX",
        "outputId": "b69c7a4f-a602-4413-d5ba-e39a49d072b3"
      },
      "execution_count": null,
      "outputs": [
        {
          "output_type": "execute_result",
          "data": {
            "text/plain": [
              "tensor([[0.7158, 0.5864, 0.6644, 0.0232],\n",
              "        [0.1013, 0.0642, 0.3200, 0.3416],\n",
              "        [0.7802, 0.1671, 0.7572, 0.9625]])"
            ]
          },
          "metadata": {},
          "execution_count": 17
        }
      ]
    },
    {
      "cell_type": "code",
      "source": [
        "random_tensor.ndim"
      ],
      "metadata": {
        "colab": {
          "base_uri": "https://localhost:8080/"
        },
        "id": "gvV_u9I0gdyo",
        "outputId": "98c73d46-ff3d-4c0a-e270-f82ca033555c"
      },
      "execution_count": null,
      "outputs": [
        {
          "output_type": "execute_result",
          "data": {
            "text/plain": [
              "2"
            ]
          },
          "metadata": {},
          "execution_count": 18
        }
      ]
    },
    {
      "cell_type": "code",
      "source": [
        "# Create a random tensor  with similar shape to an image tensor\n",
        "\n",
        "random_image_size_tensor = torch.rand(size=(224,244,3))\n",
        "\"\"\" Can also have colour channels at the start:\n",
        "random_image_size_tensor = torch.rand(size=(3,224,244)) \"\"\"\n",
        "#size - height, width, colour channels\n",
        "\n",
        "random_image_size_tensor.shape, random_image_size_tensor.ndim"
      ],
      "metadata": {
        "colab": {
          "base_uri": "https://localhost:8080/"
        },
        "id": "7XgUgNGPixEv",
        "outputId": "639773d7-5cb9-4c0c-9752-46357bce59c0"
      },
      "execution_count": null,
      "outputs": [
        {
          "output_type": "execute_result",
          "data": {
            "text/plain": [
              "(torch.Size([224, 244, 3]), 3)"
            ]
          },
          "metadata": {},
          "execution_count": 19
        }
      ]
    },
    {
      "cell_type": "markdown",
      "source": [
        "#### Tensors full of Zeros and Ones"
      ],
      "metadata": {
        "id": "yaZsk7du83Gt"
      }
    },
    {
      "cell_type": "code",
      "source": [
        "zeroes = torch.zeros(size=(3,4))\n",
        "zeroes"
      ],
      "metadata": {
        "colab": {
          "base_uri": "https://localhost:8080/"
        },
        "id": "V3u65c3z7O9q",
        "outputId": "0a8d0fc2-59c7-4f1f-df68-910f5ebbcc48"
      },
      "execution_count": null,
      "outputs": [
        {
          "output_type": "execute_result",
          "data": {
            "text/plain": [
              "tensor([[0., 0., 0., 0.],\n",
              "        [0., 0., 0., 0.],\n",
              "        [0., 0., 0., 0.]])"
            ]
          },
          "metadata": {},
          "execution_count": 20
        }
      ]
    },
    {
      "cell_type": "code",
      "source": [
        "zeroes*random_tensor"
      ],
      "metadata": {
        "colab": {
          "base_uri": "https://localhost:8080/"
        },
        "id": "N1NTK1O18_xP",
        "outputId": "cf9ec07e-a980-4e2a-f964-b6865634eb92"
      },
      "execution_count": null,
      "outputs": [
        {
          "output_type": "execute_result",
          "data": {
            "text/plain": [
              "tensor([[0., 0., 0., 0.],\n",
              "        [0., 0., 0., 0.],\n",
              "        [0., 0., 0., 0.]])"
            ]
          },
          "metadata": {},
          "execution_count": 21
        }
      ]
    },
    {
      "cell_type": "code",
      "source": [
        "ones = torch.ones(size=(3,4))\n",
        "ones"
      ],
      "metadata": {
        "colab": {
          "base_uri": "https://localhost:8080/"
        },
        "id": "AuEcrCW_8_UC",
        "outputId": "a6a9960a-5aa4-4e1a-b760-a842960a0677"
      },
      "execution_count": null,
      "outputs": [
        {
          "output_type": "execute_result",
          "data": {
            "text/plain": [
              "tensor([[1., 1., 1., 1.],\n",
              "        [1., 1., 1., 1.],\n",
              "        [1., 1., 1., 1.]])"
            ]
          },
          "metadata": {},
          "execution_count": 22
        }
      ]
    },
    {
      "cell_type": "markdown",
      "source": [
        "#### DataType"
      ],
      "metadata": {
        "id": "fG1EdXPs9bvY"
      }
    },
    {
      "cell_type": "code",
      "source": [
        "random_tensor.dtype"
      ],
      "metadata": {
        "colab": {
          "base_uri": "https://localhost:8080/"
        },
        "id": "QPvMwHs49OP5",
        "outputId": "1f46f0e0-c8e2-4531-c47f-f4eec5a0f6ff"
      },
      "execution_count": null,
      "outputs": [
        {
          "output_type": "execute_result",
          "data": {
            "text/plain": [
              "torch.float32"
            ]
          },
          "metadata": {},
          "execution_count": 23
        }
      ]
    },
    {
      "cell_type": "markdown",
      "source": [
        "### Range of tensors and tensors-like"
      ],
      "metadata": {
        "id": "0d7FJlG99lnI"
      }
    },
    {
      "cell_type": "code",
      "source": [
        "# Use torch.range() and if get deprecated message, use torch.arange()\n",
        "\n",
        "one_to_ten = torch.arange(start=1,end = 11, step=1)\n",
        "one_to_ten"
      ],
      "metadata": {
        "colab": {
          "base_uri": "https://localhost:8080/"
        },
        "id": "YKAFnrm_9pSl",
        "outputId": "43d56821-8dec-442f-9302-54a9c5bbe206"
      },
      "execution_count": null,
      "outputs": [
        {
          "output_type": "execute_result",
          "data": {
            "text/plain": [
              "tensor([ 1,  2,  3,  4,  5,  6,  7,  8,  9, 10])"
            ]
          },
          "metadata": {},
          "execution_count": 24
        }
      ]
    },
    {
      "cell_type": "code",
      "source": [
        " one_to_thousand = torch.arange(start=0,end = 1000, step=77)\n",
        " one_to_thousand"
      ],
      "metadata": {
        "colab": {
          "base_uri": "https://localhost:8080/"
        },
        "id": "k7Rs-2fx9uQ9",
        "outputId": "20c75606-2974-4920-9e89-9650f49fe834"
      },
      "execution_count": null,
      "outputs": [
        {
          "output_type": "execute_result",
          "data": {
            "text/plain": [
              "tensor([  0,  77, 154, 231, 308, 385, 462, 539, 616, 693, 770, 847, 924])"
            ]
          },
          "metadata": {},
          "execution_count": 25
        }
      ]
    },
    {
      "cell_type": "code",
      "source": [
        "# Create tensors like\n",
        "\n",
        "ten_zeros = torch.zeros_like(input = one_to_ten)\n",
        "ten_zeros"
      ],
      "metadata": {
        "colab": {
          "base_uri": "https://localhost:8080/"
        },
        "id": "qPeQOw84-T7j",
        "outputId": "1e30b211-c1d2-4e92-d28c-0e3840a41972"
      },
      "execution_count": null,
      "outputs": [
        {
          "output_type": "execute_result",
          "data": {
            "text/plain": [
              "tensor([0, 0, 0, 0, 0, 0, 0, 0, 0, 0])"
            ]
          },
          "metadata": {},
          "execution_count": 26
        }
      ]
    },
    {
      "cell_type": "markdown",
      "source": [
        "## Tensor datatypes\n",
        "\n",
        "**Note**: Tensor datatypes is one of the 3 big errors you will run into with PyTorch & deep learning:\n",
        "\n",
        "1. Tensors not right datatype\n",
        "2. Tensors not right shape\n",
        "3. Tensors not on right device"
      ],
      "metadata": {
        "id": "V5LAnjpp_Nz7"
      }
    },
    {
      "cell_type": "code",
      "source": [
        "# Float 32 tensor - this is the default datatype even if it says None\n",
        "\n",
        "float_32_tensor = torch.tensor([3.0,6.0,9.0], dtype=None, device=\"cpu\", requires_grad=False)\n",
        "\n",
        "# datatype - what datatype is the tensor -> float 32, or float 16 and float 64 eg?\n",
        "# device - default \"cpu\", we put None rn , if using GPU, then put \"cuda\" - What device is your tensor on?\n",
        "# requires_grad - if u want pytorch to track the gradients - Whether to track gradients or not for tensors?\n"
      ],
      "metadata": {
        "id": "_RPtZmM7-2Ar"
      },
      "execution_count": null,
      "outputs": []
    },
    {
      "cell_type": "code",
      "source": [
        "float_32_tensor.dtype"
      ],
      "metadata": {
        "colab": {
          "base_uri": "https://localhost:8080/"
        },
        "id": "_ZEip5Gm_Yvw",
        "outputId": "8483e277-59f1-4516-df1b-d9b28f9a3e40"
      },
      "execution_count": null,
      "outputs": [
        {
          "output_type": "execute_result",
          "data": {
            "text/plain": [
              "torch.float32"
            ]
          },
          "metadata": {},
          "execution_count": 28
        }
      ]
    },
    {
      "cell_type": "code",
      "source": [
        "float_16_tensor = float_32_tensor.type(torch.half)\n",
        "#float_16_tensor = float_32_tensor.type(torch.float16)"
      ],
      "metadata": {
        "id": "f_3AXlD9_f0E"
      },
      "execution_count": null,
      "outputs": []
    },
    {
      "cell_type": "code",
      "source": [
        "float_16_tensor.dtype"
      ],
      "metadata": {
        "colab": {
          "base_uri": "https://localhost:8080/"
        },
        "id": "s8gcdnuPBfh2",
        "outputId": "a25104ce-3b4b-4ad1-ce2d-6f907953d10a"
      },
      "execution_count": null,
      "outputs": [
        {
          "output_type": "execute_result",
          "data": {
            "text/plain": [
              "torch.float16"
            ]
          },
          "metadata": {},
          "execution_count": 30
        }
      ]
    },
    {
      "cell_type": "code",
      "source": [
        "(float_16_tensor *  float_32_tensor).dtype"
      ],
      "metadata": {
        "colab": {
          "base_uri": "https://localhost:8080/"
        },
        "id": "5VfxdAxjBkrB",
        "outputId": "ba4d4c0d-851f-4977-bec9-5094298c051d"
      },
      "execution_count": null,
      "outputs": [
        {
          "output_type": "execute_result",
          "data": {
            "text/plain": [
              "torch.float32"
            ]
          },
          "metadata": {},
          "execution_count": 31
        }
      ]
    },
    {
      "cell_type": "markdown",
      "source": [
        "##### Getting information from tensors"
      ],
      "metadata": {
        "id": "NMSp4CGHCKpH"
      }
    },
    {
      "cell_type": "code",
      "source": [
        "# Getting info from tensors\n",
        "\n",
        "print(float_32_tensor.dtype) # datatype\n",
        "print(float_32_tensor.shape) # shape\n",
        "print(float_32_tensor.device) # device"
      ],
      "metadata": {
        "colab": {
          "base_uri": "https://localhost:8080/"
        },
        "id": "naaBUZiMCNGP",
        "outputId": "ab0be714-c64a-4c30-d7a7-d087d08f1eb7"
      },
      "execution_count": null,
      "outputs": [
        {
          "output_type": "stream",
          "name": "stdout",
          "text": [
            "torch.float32\n",
            "torch.Size([3])\n",
            "cpu\n"
          ]
        }
      ]
    },
    {
      "cell_type": "markdown",
      "source": [
        "### NON COMPATIBLE DATA TYPES IN TENSORS EXAMPLE (INT AND FLOAT 32) - they surprisingly work!"
      ],
      "metadata": {
        "id": "PVyjmYj2VNXX"
      }
    },
    {
      "cell_type": "code",
      "source": [
        "int_32_tensor = torch.tensor([3,6,9], dtype = torch.int64)"
      ],
      "metadata": {
        "id": "kg-un6GWVe-u"
      },
      "execution_count": null,
      "outputs": []
    },
    {
      "cell_type": "code",
      "source": [
        "int_32_tensor * float_32_tensor # also worked"
      ],
      "metadata": {
        "colab": {
          "base_uri": "https://localhost:8080/"
        },
        "id": "ywxRih99V4Il",
        "outputId": "05faec30-e7e1-4e50-f89d-2dac13cb0012"
      },
      "execution_count": null,
      "outputs": [
        {
          "output_type": "execute_result",
          "data": {
            "text/plain": [
              "tensor([ 9., 36., 81.])"
            ]
          },
          "metadata": {},
          "execution_count": 34
        }
      ]
    },
    {
      "cell_type": "code",
      "source": [
        "int_32_tensor = torch.tensor([3,6,9], dtype = torch.long)"
      ],
      "metadata": {
        "id": "9SMVlBLLWQTN"
      },
      "execution_count": null,
      "outputs": []
    },
    {
      "cell_type": "code",
      "source": [
        "int_32_tensor * float_32_tensor # also worked"
      ],
      "metadata": {
        "colab": {
          "base_uri": "https://localhost:8080/"
        },
        "id": "xnpfXdGZWUgS",
        "outputId": "43e7aa57-4ce4-45eb-a583-594fff790a15"
      },
      "execution_count": null,
      "outputs": [
        {
          "output_type": "execute_result",
          "data": {
            "text/plain": [
              "tensor([ 9., 36., 81.])"
            ]
          },
          "metadata": {},
          "execution_count": 36
        }
      ]
    },
    {
      "cell_type": "markdown",
      "source": [
        "#### Getting Information from Tensors\n",
        "(Written above)\n",
        "\n",
        "1. Tensors not right datatype - to get datatype from a tensor, can use 'tensor.dtype'\n",
        "2. Tensors not right shape - can use tensor.shape\n",
        "3. Tensors not on right device - can use tensor.device"
      ],
      "metadata": {
        "id": "pvp7eZsXWZ3c"
      }
    },
    {
      "cell_type": "code",
      "source": [
        "some_tensor = torch.rand(3,4)"
      ],
      "metadata": {
        "id": "kmcxz0DYWb2k"
      },
      "execution_count": null,
      "outputs": []
    },
    {
      "cell_type": "code",
      "source": [
        "some_tensor.size() # same as shape (size is a function, whereas shape is an attribute)"
      ],
      "metadata": {
        "colab": {
          "base_uri": "https://localhost:8080/"
        },
        "id": "mdx1s9m5XHEL",
        "outputId": "4bc57959-da8a-4a7b-ef20-5d75de8b6fe0"
      },
      "execution_count": null,
      "outputs": [
        {
          "output_type": "execute_result",
          "data": {
            "text/plain": [
              "torch.Size([3, 4])"
            ]
          },
          "metadata": {},
          "execution_count": 38
        }
      ]
    },
    {
      "cell_type": "code",
      "source": [
        "#Find out details:\n",
        "\n",
        "print(some_tensor)\n",
        "print(f'Datatype of tensor: {some_tensor.dtype}')\n",
        "print(f'Shape of tensor: {some_tensor.shape}')\n",
        "print(f'Device of tensor: {some_tensor.device}')"
      ],
      "metadata": {
        "colab": {
          "base_uri": "https://localhost:8080/"
        },
        "id": "qJUtNRRHW3zs",
        "outputId": "a35035f4-7ff6-4e31-e8a8-a5d29f9c5823"
      },
      "execution_count": null,
      "outputs": [
        {
          "output_type": "stream",
          "name": "stdout",
          "text": [
            "tensor([[0.8372, 0.7589, 0.4699, 0.8659],\n",
            "        [0.7405, 0.0338, 0.8486, 0.5779],\n",
            "        [0.3477, 0.2787, 0.5047, 0.7695]])\n",
            "Datatype of tensor: torch.float32\n",
            "Shape of tensor: torch.Size([3, 4])\n",
            "Device of tensor: cpu\n"
          ]
        }
      ]
    },
    {
      "cell_type": "markdown",
      "source": [
        "## Manipulating Tensors (tensor operations)\n",
        "\n",
        "Tensor operations include :\n",
        "\n",
        "1. Addition\n",
        "2. Subtraction\n",
        "3. Multiplication (element-wise)\n",
        "4. Division\n",
        "5. Matrix Multiplication"
      ],
      "metadata": {
        "id": "RbztIXcRYBKB"
      }
    },
    {
      "cell_type": "code",
      "source": [
        "# Addition with a scalar (a number) - create a tensor\n",
        "\n",
        "tensor = torch.tensor([1,2,3])\n",
        "tensor + 10 # have no reassigned it, hence, tensor still is 1,2,3"
      ],
      "metadata": {
        "colab": {
          "base_uri": "https://localhost:8080/"
        },
        "id": "2bJx966sXCYT",
        "outputId": "0f16187e-f320-449e-83fc-cecf56789c24"
      },
      "execution_count": null,
      "outputs": [
        {
          "output_type": "execute_result",
          "data": {
            "text/plain": [
              "tensor([11, 12, 13])"
            ]
          },
          "metadata": {},
          "execution_count": 40
        }
      ]
    },
    {
      "cell_type": "code",
      "source": [
        "# Multiplication by a scalar\n",
        "\n",
        "tensor * 10"
      ],
      "metadata": {
        "colab": {
          "base_uri": "https://localhost:8080/"
        },
        "id": "0w7P_uh9Ym6U",
        "outputId": "45e3734e-b95c-4b55-bc04-032d43356d9f"
      },
      "execution_count": null,
      "outputs": [
        {
          "output_type": "execute_result",
          "data": {
            "text/plain": [
              "tensor([10, 20, 30])"
            ]
          },
          "metadata": {},
          "execution_count": 41
        }
      ]
    },
    {
      "cell_type": "code",
      "source": [
        "# Subtract a scalar\n",
        "\n",
        "tensor - 10"
      ],
      "metadata": {
        "colab": {
          "base_uri": "https://localhost:8080/"
        },
        "id": "TxzCY8Y6Yt5X",
        "outputId": "59072b58-899b-48cb-da19-0e81e9340814"
      },
      "execution_count": null,
      "outputs": [
        {
          "output_type": "execute_result",
          "data": {
            "text/plain": [
              "tensor([-9, -8, -7])"
            ]
          },
          "metadata": {},
          "execution_count": 42
        }
      ]
    },
    {
      "cell_type": "code",
      "source": [
        "# Try out inbuilt PyTorch functions - same as * 10\n",
        "\n",
        "# Prefer the operators more\n",
        "torch.mul(tensor,10)"
      ],
      "metadata": {
        "colab": {
          "base_uri": "https://localhost:8080/"
        },
        "id": "Y9Bg4tVzYxZO",
        "outputId": "3a583e01-5fae-4b45-9e2c-ea21826d16eb"
      },
      "execution_count": null,
      "outputs": [
        {
          "output_type": "execute_result",
          "data": {
            "text/plain": [
              "tensor([10, 20, 30])"
            ]
          },
          "metadata": {},
          "execution_count": 43
        }
      ]
    },
    {
      "cell_type": "code",
      "source": [
        "torch.add(tensor,10) #addition inbuilt function"
      ],
      "metadata": {
        "colab": {
          "base_uri": "https://localhost:8080/"
        },
        "id": "LXE2ZR9zZFK9",
        "outputId": "0f4dde6d-46f7-4e0c-cd2e-ab253cab1421"
      },
      "execution_count": null,
      "outputs": [
        {
          "output_type": "execute_result",
          "data": {
            "text/plain": [
              "tensor([11, 12, 13])"
            ]
          },
          "metadata": {},
          "execution_count": 44
        }
      ]
    },
    {
      "cell_type": "markdown",
      "source": [
        "### Matrix Multiplication\n",
        "\n",
        "There are two main ways of performing multiplication in neural networks and deep learning.\n",
        "\n",
        "1) Element-wise multiplication\n",
        "\n",
        "2) Matrix multiplication (one of the most common ones used) - multiplying a matrix by another matrix, we need to do the dot product hence used interchangeably.\n",
        "\n",
        "That are two main rules that performining matrix multiplication needs to satisfy (otherwise we get an error!):\n",
        "\n",
        "1. The **inner dimensions** must match.\n",
        "\n",
        "* `(3,2) @ (3,2)` won't work\n",
        "* `(2,3) @ (3,2)` will work\n",
        "* `(3,2) @ (2,3)` will work\n",
        "\n",
        "2. The resulting matrix has the shape of the **outer dimensions**.\n",
        "\n",
        "* `(3,2) @ (2,3)` will have 3x3 dimensions\n",
        "* `(2,3) @ (3,2)` will have 2x2 dimensions"
      ],
      "metadata": {
        "id": "jN83MltHZxBn"
      }
    },
    {
      "cell_type": "code",
      "source": [
        "# rule 1\n",
        "\n",
        "# torch.matmul(torch.rand(3,2), torch.rand(3,2)) this doesn't work\n",
        "\n",
        "answer = torch.matmul(torch.rand(3,2), torch.rand(2,3)) # works (matching inner dimensions)"
      ],
      "metadata": {
        "id": "JD9BK2sGc9g5"
      },
      "execution_count": null,
      "outputs": []
    },
    {
      "cell_type": "code",
      "source": [
        "# rule 2\n",
        "\n",
        "answer.shape"
      ],
      "metadata": {
        "colab": {
          "base_uri": "https://localhost:8080/"
        },
        "id": "ebi8CzU8dj2V",
        "outputId": "220426a7-6767-4c36-e237-d5a62b40b224"
      },
      "execution_count": null,
      "outputs": [
        {
          "output_type": "execute_result",
          "data": {
            "text/plain": [
              "torch.Size([3, 3])"
            ]
          },
          "metadata": {},
          "execution_count": 46
        }
      ]
    },
    {
      "cell_type": "code",
      "source": [
        "# Element-wise multiplication\n",
        "\n",
        "print(tensor ,\"*\", tensor)\n",
        "print(\"Equals\", tensor*tensor)"
      ],
      "metadata": {
        "colab": {
          "base_uri": "https://localhost:8080/"
        },
        "id": "SSam3PQ2ZRle",
        "outputId": "5ec78879-a1a1-4474-f76c-a237c28ceee6"
      },
      "execution_count": null,
      "outputs": [
        {
          "output_type": "stream",
          "name": "stdout",
          "text": [
            "tensor([1, 2, 3]) * tensor([1, 2, 3])\n",
            "Equals tensor([1, 4, 9])\n"
          ]
        }
      ]
    },
    {
      "cell_type": "code",
      "source": [
        "# Matrix multiplication\n",
        "\n",
        "torch.matmul(tensor, tensor) # sum of 1 + 4 + 9 , so it treated the other one as a row vector and one as column"
      ],
      "metadata": {
        "colab": {
          "base_uri": "https://localhost:8080/"
        },
        "id": "k380u7SCanVc",
        "outputId": "906301a8-896a-4dfb-dc1a-efa549242ae2"
      },
      "execution_count": null,
      "outputs": [
        {
          "output_type": "execute_result",
          "data": {
            "text/plain": [
              "tensor(14)"
            ]
          },
          "metadata": {},
          "execution_count": 48
        }
      ]
    },
    {
      "cell_type": "code",
      "source": [
        "# Matrix multiplication by hand\n",
        "\n",
        "1*1 + 2*2 + 3*3"
      ],
      "metadata": {
        "colab": {
          "base_uri": "https://localhost:8080/"
        },
        "id": "IYXt7LRUa05-",
        "outputId": "7188ea1e-834a-4547-c7e2-c7959ab13104"
      },
      "execution_count": null,
      "outputs": [
        {
          "output_type": "execute_result",
          "data": {
            "text/plain": [
              "14"
            ]
          },
          "metadata": {},
          "execution_count": 49
        }
      ]
    },
    {
      "cell_type": "code",
      "source": [
        "tensor@tensor # '@' is also used for indicating matrix multiplication"
      ],
      "metadata": {
        "colab": {
          "base_uri": "https://localhost:8080/"
        },
        "id": "jPdC8K5NcsLv",
        "outputId": "c621794d-0970-45ca-d704-2acff0d7f75e"
      },
      "execution_count": null,
      "outputs": [
        {
          "output_type": "execute_result",
          "data": {
            "text/plain": [
              "tensor(14)"
            ]
          },
          "metadata": {},
          "execution_count": 50
        }
      ]
    },
    {
      "cell_type": "code",
      "source": [
        "%%time\n",
        "\n",
        "value = 0\n",
        "for i in range(len(tensor)):\n",
        "  value += tensor[i] * tensor[i]\n",
        "print(value)"
      ],
      "metadata": {
        "colab": {
          "base_uri": "https://localhost:8080/"
        },
        "id": "gvs22MyAbJfs",
        "outputId": "524dbdc5-e44f-4829-f427-dc29e84f021c"
      },
      "execution_count": null,
      "outputs": [
        {
          "output_type": "stream",
          "name": "stdout",
          "text": [
            "tensor(14)\n",
            "CPU times: user 1.35 ms, sys: 60 µs, total: 1.41 ms\n",
            "Wall time: 2.49 ms\n"
          ]
        }
      ]
    },
    {
      "cell_type": "code",
      "source": [
        "%%time\n",
        "print(torch.matmul(tensor,tensor)) #preferred due to less run time"
      ],
      "metadata": {
        "colab": {
          "base_uri": "https://localhost:8080/"
        },
        "id": "vJfgXR6obiS0",
        "outputId": "35e9b6af-e447-4e45-c655-68f146d2031f"
      },
      "execution_count": null,
      "outputs": [
        {
          "output_type": "stream",
          "name": "stdout",
          "text": [
            "tensor(14)\n",
            "CPU times: user 898 µs, sys: 3 µs, total: 901 µs\n",
            "Wall time: 909 µs\n"
          ]
        }
      ]
    },
    {
      "cell_type": "markdown",
      "source": [
        "### Rules for larger matrix multiplication\n",
        "\n",
        "One of the most common errors in deep learning is shape errors"
      ],
      "metadata": {
        "id": "KusU4FItcCti"
      }
    },
    {
      "cell_type": "code",
      "source": [
        "# Shapes for matrix multiplication\n",
        "\n",
        "tensor_A = torch.tensor([[1,2],\n",
        "                        [3,4],\n",
        "                        [5,6]])\n",
        "\n",
        "tensor_B = torch.tensor([[7,10],\n",
        "                        [8,11],\n",
        "                        [9,12]])\n",
        "\n",
        "# torch.mm(tensor_A, tensor_B) # torch.mm is alias for torch.matmul"
      ],
      "metadata": {
        "id": "jxXUI3uWbpvd"
      },
      "execution_count": null,
      "outputs": []
    },
    {
      "cell_type": "code",
      "source": [
        "tensor_A.shape, tensor_B.shape"
      ],
      "metadata": {
        "colab": {
          "base_uri": "https://localhost:8080/"
        },
        "id": "myrwUeFkfNpo",
        "outputId": "5529a32d-1850-473e-9d32-a36fa97f6400"
      },
      "execution_count": null,
      "outputs": [
        {
          "output_type": "execute_result",
          "data": {
            "text/plain": [
              "(torch.Size([3, 2]), torch.Size([3, 2]))"
            ]
          },
          "metadata": {},
          "execution_count": 54
        }
      ]
    },
    {
      "cell_type": "markdown",
      "source": [
        "##### To fix this, we can manipulate the shape of one of our tensors using transpose:\n",
        "\n",
        " A **transpose** switches the axes or dimensions of a given tensor."
      ],
      "metadata": {
        "id": "qembES1Ofa3d"
      }
    },
    {
      "cell_type": "code",
      "source": [
        "# The matrix multiplication operation works when tensor_B is transposed\n",
        "\n",
        "print(f'Original shapes: tensor_A = {tensor_A.shape}, tensor_B = {tensor_B.shape}')\n",
        "print(f'New shapes: tensor_A = {tensor_A.shape}, tensor_B transpose = {tensor_B.T.shape}')\n",
        "\n",
        "print(torch.mm(tensor_A, tensor_B.T)) # .T for transpose\n",
        "print(f\"Output Shape {torch.mm(tensor_A, tensor_B.T).shape}\")"
      ],
      "metadata": {
        "colab": {
          "base_uri": "https://localhost:8080/"
        },
        "id": "zTl9gzdXfrTm",
        "outputId": "40eeaf01-2b56-4a77-97bd-6f7164296a90"
      },
      "execution_count": null,
      "outputs": [
        {
          "output_type": "stream",
          "name": "stdout",
          "text": [
            "Original shapes: tensor_A = torch.Size([3, 2]), tensor_B = torch.Size([3, 2])\n",
            "New shapes: tensor_A = torch.Size([3, 2]), tensor_B transpose = torch.Size([2, 3])\n",
            "tensor([[ 27,  30,  33],\n",
            "        [ 61,  68,  75],\n",
            "        [ 95, 106, 117]])\n",
            "Output Shape torch.Size([3, 3])\n"
          ]
        }
      ]
    },
    {
      "cell_type": "markdown",
      "source": [
        "### Finding Min, Max and Sum etc (Tensor aggregation)"
      ],
      "metadata": {
        "id": "SibdTx0qimJc"
      }
    },
    {
      "cell_type": "code",
      "source": [
        "# Create a tensor\n",
        "\n",
        "x = torch.arange(1,100,10)\n",
        "x, x.dtype"
      ],
      "metadata": {
        "colab": {
          "base_uri": "https://localhost:8080/"
        },
        "id": "pvM2i3ehfyYl",
        "outputId": "e5b75fea-d0e7-408c-b6b1-137b5dbea3dd"
      },
      "execution_count": null,
      "outputs": [
        {
          "output_type": "execute_result",
          "data": {
            "text/plain": [
              "(tensor([ 1, 11, 21, 31, 41, 51, 61, 71, 81, 91]), torch.int64)"
            ]
          },
          "metadata": {},
          "execution_count": 56
        }
      ]
    },
    {
      "cell_type": "code",
      "source": [
        "torch.min(x), x.min()"
      ],
      "metadata": {
        "colab": {
          "base_uri": "https://localhost:8080/"
        },
        "id": "P3JppTori-5y",
        "outputId": "f78f863f-f3fd-4ec4-e84f-a0f22a1ecef7"
      },
      "execution_count": null,
      "outputs": [
        {
          "output_type": "execute_result",
          "data": {
            "text/plain": [
              "(tensor(1), tensor(1))"
            ]
          },
          "metadata": {},
          "execution_count": 57
        }
      ]
    },
    {
      "cell_type": "code",
      "source": [
        "torch.max(x), x.max()"
      ],
      "metadata": {
        "colab": {
          "base_uri": "https://localhost:8080/"
        },
        "id": "PG_rSptujODJ",
        "outputId": "7e2acc7a-cc73-4e24-c50c-a52ab4cd7b83"
      },
      "execution_count": null,
      "outputs": [
        {
          "output_type": "execute_result",
          "data": {
            "text/plain": [
              "(tensor(91), tensor(91))"
            ]
          },
          "metadata": {},
          "execution_count": 58
        }
      ]
    },
    {
      "cell_type": "code",
      "source": [
        "torch.mean(x.type(torch.float32)), x.type(torch.float32).mean() # error in data type, int64, hence long, hence mean isn't working"
      ],
      "metadata": {
        "colab": {
          "base_uri": "https://localhost:8080/"
        },
        "id": "BlitnPz4jVjh",
        "outputId": "7c3ba3d9-805c-43a6-f7ae-b0ea006208cf"
      },
      "execution_count": null,
      "outputs": [
        {
          "output_type": "execute_result",
          "data": {
            "text/plain": [
              "(tensor(46.), tensor(46.))"
            ]
          },
          "metadata": {},
          "execution_count": 59
        }
      ]
    },
    {
      "cell_type": "code",
      "source": [
        "# Find sum:\n",
        "\n",
        "torch.sum(x), x.sum()"
      ],
      "metadata": {
        "colab": {
          "base_uri": "https://localhost:8080/"
        },
        "id": "cxTJ2KwtjXX5",
        "outputId": "4f44379a-8a3e-4d39-cac7-cd4fd34abf3b"
      },
      "execution_count": null,
      "outputs": [
        {
          "output_type": "execute_result",
          "data": {
            "text/plain": [
              "(tensor(460), tensor(460))"
            ]
          },
          "metadata": {},
          "execution_count": 60
        }
      ]
    },
    {
      "cell_type": "markdown",
      "source": [
        "#### Finding positional min and max, that is ARGMIN, ARGMAX (the index at which the minimum and maximum numbers lie in the tensor)"
      ],
      "metadata": {
        "id": "8jlGAUfUkQOl"
      }
    },
    {
      "cell_type": "code",
      "source": [
        "x.argmin() # argmin"
      ],
      "metadata": {
        "colab": {
          "base_uri": "https://localhost:8080/"
        },
        "id": "jhTj7Gq2kgt4",
        "outputId": "abc99b48-45b9-4115-d310-2a6a5c1f5255"
      },
      "execution_count": null,
      "outputs": [
        {
          "output_type": "execute_result",
          "data": {
            "text/plain": [
              "tensor(0)"
            ]
          },
          "metadata": {},
          "execution_count": 61
        }
      ]
    },
    {
      "cell_type": "code",
      "source": [
        "x.argmax() # argmax - useful when we use the softmax activation function later!"
      ],
      "metadata": {
        "colab": {
          "base_uri": "https://localhost:8080/"
        },
        "id": "uYXVKkkvkpFm",
        "outputId": "d5dcc004-4673-4a0f-f38e-ddb581029632"
      },
      "execution_count": null,
      "outputs": [
        {
          "output_type": "execute_result",
          "data": {
            "text/plain": [
              "tensor(9)"
            ]
          },
          "metadata": {},
          "execution_count": 62
        }
      ]
    },
    {
      "cell_type": "markdown",
      "source": [
        "## Reshaping, stacking, squeezing and unsqueezing tensors:\n",
        "\n",
        "* Reshaping - reshapes an input tensor to a defined shape\n",
        "\n",
        "* View - return a view of an input tensor of a certain shape but keep the same memory as the original tensor (shows the same tensor from a different perspective)\n",
        "\n",
        "* Stacking - combine multiple tensors on top of each other (vstack) or side by side (hstack). Concatenates a sequence of tensors along a new dimension (we can specify the dimension)\n",
        "\n",
        "* Squeezing - removes all ``1`` dimensions from a tensors\n",
        "\n",
        "* Unsqueezing - adds a  ``1`` dimensions to a target tensor\n",
        "\n",
        "* Permute - return a view of the input with dimensions permuted (swapped) in a certain way\n",
        "\n",
        "\n",
        "(All of these manipulate the shape/size/dim of tensors)"
      ],
      "metadata": {
        "id": "l0e-OWfBla_S"
      }
    },
    {
      "cell_type": "code",
      "source": [
        "# Creating a tensor\n",
        "import torch\n",
        "\n",
        "x = torch.arange(1.,10.)\n",
        "x, x.shape, x.dtype"
      ],
      "metadata": {
        "colab": {
          "base_uri": "https://localhost:8080/"
        },
        "id": "kEINyc7XkrI7",
        "outputId": "bd6a3858-ac5d-44bb-c0d0-b974ecc5c5ea"
      },
      "execution_count": null,
      "outputs": [
        {
          "output_type": "execute_result",
          "data": {
            "text/plain": [
              "(tensor([1., 2., 3., 4., 5., 6., 7., 8., 9.]), torch.Size([9]), torch.float32)"
            ]
          },
          "metadata": {},
          "execution_count": 63
        }
      ]
    },
    {
      "cell_type": "code",
      "source": [
        "# Reshape - add an extra dimension\n",
        "\n",
        "x_reshaped = x.reshape(1,9) #the dimensions have to be compatible with the original dimensions\n",
        "x_reshaped, x_reshaped.shape"
      ],
      "metadata": {
        "colab": {
          "base_uri": "https://localhost:8080/"
        },
        "id": "7tGmTzi8mhqp",
        "outputId": "d23bf195-6eb2-4ef0-a081-aaaa7b2b9325"
      },
      "execution_count": null,
      "outputs": [
        {
          "output_type": "execute_result",
          "data": {
            "text/plain": [
              "(tensor([[1., 2., 3., 4., 5., 6., 7., 8., 9.]]), torch.Size([1, 9]))"
            ]
          },
          "metadata": {},
          "execution_count": 64
        }
      ]
    },
    {
      "cell_type": "code",
      "source": [
        "x_reshaped = x.reshape(9,1) #the dimensions have to be compatible with the original dimensions\n",
        "x_reshaped, x_reshaped.shape"
      ],
      "metadata": {
        "colab": {
          "base_uri": "https://localhost:8080/"
        },
        "id": "Qm2yi8mmmyw7",
        "outputId": "3639aa39-3496-43ec-8da7-296f8ed2be4f"
      },
      "execution_count": null,
      "outputs": [
        {
          "output_type": "execute_result",
          "data": {
            "text/plain": [
              "(tensor([[1.],\n",
              "         [2.],\n",
              "         [3.],\n",
              "         [4.],\n",
              "         [5.],\n",
              "         [6.],\n",
              "         [7.],\n",
              "         [8.],\n",
              "         [9.]]),\n",
              " torch.Size([9, 1]))"
            ]
          },
          "metadata": {},
          "execution_count": 65
        }
      ]
    },
    {
      "cell_type": "code",
      "source": [
        "# Change the view\n",
        "z = x.view(1,9)\n",
        "z, z.shape # z shares the same memory as x, changing z, changes x"
      ],
      "metadata": {
        "colab": {
          "base_uri": "https://localhost:8080/"
        },
        "id": "2HisYZfDnSm-",
        "outputId": "4a6c0cdb-f738-4797-e196-d9e1a609efa3"
      },
      "execution_count": null,
      "outputs": [
        {
          "output_type": "execute_result",
          "data": {
            "text/plain": [
              "(tensor([[1., 2., 3., 4., 5., 6., 7., 8., 9.]]), torch.Size([1, 9]))"
            ]
          },
          "metadata": {},
          "execution_count": 66
        }
      ]
    },
    {
      "cell_type": "code",
      "source": [
        "z[:,0] = 5\n",
        "z,x"
      ],
      "metadata": {
        "colab": {
          "base_uri": "https://localhost:8080/"
        },
        "id": "Qw28UBNxnYCP",
        "outputId": "1b778da1-a9ce-44fa-ea73-7f5bc18d33d5"
      },
      "execution_count": null,
      "outputs": [
        {
          "output_type": "execute_result",
          "data": {
            "text/plain": [
              "(tensor([[5., 2., 3., 4., 5., 6., 7., 8., 9.]]),\n",
              " tensor([5., 2., 3., 4., 5., 6., 7., 8., 9.]))"
            ]
          },
          "metadata": {},
          "execution_count": 67
        }
      ]
    },
    {
      "cell_type": "code",
      "source": [
        "# Stack tensors on top of each other\n",
        "\n",
        "x_stacked = torch.stack([x,x,x], dim=0) #dim = 0 default (vertical), dim 1 = horizontal\n",
        "x_stacked, x_stacked.shape"
      ],
      "metadata": {
        "colab": {
          "base_uri": "https://localhost:8080/"
        },
        "id": "_wPgFTphoOjP",
        "outputId": "df42a560-35fc-4a23-87ec-ac9d2a198d09"
      },
      "execution_count": null,
      "outputs": [
        {
          "output_type": "execute_result",
          "data": {
            "text/plain": [
              "(tensor([[5., 2., 3., 4., 5., 6., 7., 8., 9.],\n",
              "         [5., 2., 3., 4., 5., 6., 7., 8., 9.],\n",
              "         [5., 2., 3., 4., 5., 6., 7., 8., 9.]]),\n",
              " torch.Size([3, 9]))"
            ]
          },
          "metadata": {},
          "execution_count": 68
        }
      ]
    },
    {
      "cell_type": "code",
      "source": [
        "y_vstack = torch.vstack([x,x])\n",
        "y_hstack = torch.hstack([x,x])\n",
        "\n",
        "y_vstack, y_vstack.shape, y_hstack, y_hstack.shape # hstack just adds them! = size went from 9 to 18, instead of 9 to 2,9"
      ],
      "metadata": {
        "colab": {
          "base_uri": "https://localhost:8080/"
        },
        "id": "ymBeDU2PoWXp",
        "outputId": "190fb9cd-a9d3-4b52-98ab-5990ea12718c"
      },
      "execution_count": null,
      "outputs": [
        {
          "output_type": "execute_result",
          "data": {
            "text/plain": [
              "(tensor([[5., 2., 3., 4., 5., 6., 7., 8., 9.],\n",
              "         [5., 2., 3., 4., 5., 6., 7., 8., 9.]]),\n",
              " torch.Size([2, 9]),\n",
              " tensor([5., 2., 3., 4., 5., 6., 7., 8., 9., 5., 2., 3., 4., 5., 6., 7., 8., 9.]),\n",
              " torch.Size([18]))"
            ]
          },
          "metadata": {},
          "execution_count": 69
        }
      ]
    },
    {
      "cell_type": "markdown",
      "source": [
        "### Squeezing and Unsqueezing"
      ],
      "metadata": {
        "id": "cv0mmChhNgDD"
      }
    },
    {
      "cell_type": "code",
      "source": [
        "# torch.squeeze() - removes all single dimensions from a target tensor\n",
        "t = torch.zeros(1, 1, 2, 1, 2)\n",
        "t # Initial tensor"
      ],
      "metadata": {
        "id": "-WBW0YIupPrb",
        "colab": {
          "base_uri": "https://localhost:8080/"
        },
        "outputId": "653228a0-160b-492c-f26a-05a141a7a201"
      },
      "execution_count": null,
      "outputs": [
        {
          "output_type": "execute_result",
          "data": {
            "text/plain": [
              "tensor([[[[[0., 0.]],\n",
              "\n",
              "          [[0., 0.]]]]])"
            ]
          },
          "metadata": {},
          "execution_count": 70
        }
      ]
    },
    {
      "cell_type": "code",
      "source": [
        "t.ndim, t.size()"
      ],
      "metadata": {
        "colab": {
          "base_uri": "https://localhost:8080/"
        },
        "id": "rqjwm2B0NzDK",
        "outputId": "09c0ed6c-db13-4abf-ff7c-5e3f7f1ef3b8"
      },
      "execution_count": null,
      "outputs": [
        {
          "output_type": "execute_result",
          "data": {
            "text/plain": [
              "(5, torch.Size([1, 1, 2, 1, 2]))"
            ]
          },
          "metadata": {},
          "execution_count": 71
        }
      ]
    },
    {
      "cell_type": "code",
      "source": [
        "s = torch.squeeze(t) # Squeezed tensor / output\n",
        "s, s.ndim, s.size()"
      ],
      "metadata": {
        "colab": {
          "base_uri": "https://localhost:8080/"
        },
        "id": "cIULN9VfOKmT",
        "outputId": "ea906dae-bf8f-4c6e-8f1f-9f0d3e2bd5d2"
      },
      "execution_count": null,
      "outputs": [
        {
          "output_type": "execute_result",
          "data": {
            "text/plain": [
              "(tensor([[0., 0.],\n",
              "         [0., 0.]]),\n",
              " 2,\n",
              " torch.Size([2, 2]))"
            ]
          },
          "metadata": {},
          "execution_count": 72
        }
      ]
    },
    {
      "cell_type": "code",
      "source": [
        "x, x_reshaped.shape # Second example with initially reshaped x"
      ],
      "metadata": {
        "colab": {
          "base_uri": "https://localhost:8080/"
        },
        "id": "rrIzsek5OuoA",
        "outputId": "d9312369-7d56-4b73-d47c-6b0d1f68c4db"
      },
      "execution_count": null,
      "outputs": [
        {
          "output_type": "execute_result",
          "data": {
            "text/plain": [
              "(tensor([5., 2., 3., 4., 5., 6., 7., 8., 9.]), torch.Size([9, 1]))"
            ]
          },
          "metadata": {},
          "execution_count": 73
        }
      ]
    },
    {
      "cell_type": "code",
      "source": [
        "# Second example\n",
        "\n",
        "w = x_reshaped.squeeze()"
      ],
      "metadata": {
        "id": "8_d_QtQdORBG"
      },
      "execution_count": null,
      "outputs": []
    },
    {
      "cell_type": "code",
      "source": [
        "w.shape # After squeezing"
      ],
      "metadata": {
        "colab": {
          "base_uri": "https://localhost:8080/"
        },
        "id": "quWCzoLsOjl7",
        "outputId": "590e5d7f-c538-4272-c243-00fb9577a69a"
      },
      "execution_count": null,
      "outputs": [
        {
          "output_type": "execute_result",
          "data": {
            "text/plain": [
              "torch.Size([9])"
            ]
          },
          "metadata": {},
          "execution_count": 75
        }
      ]
    },
    {
      "cell_type": "markdown",
      "source": [
        "##### Unsqueeze"
      ],
      "metadata": {
        "id": "v1PuujTSPRqS"
      }
    },
    {
      "cell_type": "code",
      "source": [
        "# torch.unsqueeze() - addes a single dimension to a target tensor at a specific dim!\n",
        "\n",
        "print(\"Tensor: \", w)\n",
        "print(\"Dimensions: \", w.ndim)\n",
        "print(\"Shape: \", w.shape) # x_reshaped which was squeezed"
      ],
      "metadata": {
        "colab": {
          "base_uri": "https://localhost:8080/"
        },
        "id": "eQ_bdP75Otvy",
        "outputId": "e715c566-74a1-4e43-c2d1-b527bda55b0b"
      },
      "execution_count": null,
      "outputs": [
        {
          "output_type": "stream",
          "name": "stdout",
          "text": [
            "Tensor:  tensor([5., 2., 3., 4., 5., 6., 7., 8., 9.])\n",
            "Dimensions:  1\n",
            "Shape:  torch.Size([9])\n"
          ]
        }
      ]
    },
    {
      "cell_type": "code",
      "source": [
        "# ADDING dimension with unsqueeze\n",
        "\n",
        "z = w.unsqueeze(dim=1) # dim = 0 will add before 9, and dim = 1, adds after 9\n",
        "print(\"Tensor: \", z)\n",
        "print(\"Dimensions: \", z.ndim)\n",
        "print(\"Shape: \", z.shape)"
      ],
      "metadata": {
        "colab": {
          "base_uri": "https://localhost:8080/"
        },
        "id": "wOJa7I01PoTU",
        "outputId": "7c42f469-18dd-4364-f0dc-8c800e26af48"
      },
      "execution_count": null,
      "outputs": [
        {
          "output_type": "stream",
          "name": "stdout",
          "text": [
            "Tensor:  tensor([[5.],\n",
            "        [2.],\n",
            "        [3.],\n",
            "        [4.],\n",
            "        [5.],\n",
            "        [6.],\n",
            "        [7.],\n",
            "        [8.],\n",
            "        [9.]])\n",
            "Dimensions:  2\n",
            "Shape:  torch.Size([9, 1])\n"
          ]
        }
      ]
    },
    {
      "cell_type": "markdown",
      "source": [
        "#### torch.permute - (returns a view) rearranges the dimensions of target tensor in a specific order\n",
        "\n",
        "- Used with images more often\n",
        "\n",
        "Syntax : `torch.permute ( input, (dimension order)) OR x.permute(dim order)`"
      ],
      "metadata": {
        "id": "8fb5yAW2PxHJ"
      }
    },
    {
      "cell_type": "code",
      "source": [
        "x_original = torch.rand(size=(224,244,3)) # [height,width, colour channels]\n",
        "\n",
        "# Permute the original tensor to rearrange the axis or dim order\n",
        "\n",
        "x_permuted = x_original.permute(2,0,1) # [color channels, height, width]\n",
        "\n",
        "print(f'Before Permutation: {x_original.shape}')\n",
        "print(f'After Permutation: {x_permuted.shape}')"
      ],
      "metadata": {
        "colab": {
          "base_uri": "https://localhost:8080/"
        },
        "id": "aD_k2T4XRQ5F",
        "outputId": "acd67ff8-87d8-409c-d85f-55974ace8b2d"
      },
      "execution_count": null,
      "outputs": [
        {
          "output_type": "stream",
          "name": "stdout",
          "text": [
            "Before Permutation: torch.Size([224, 244, 3])\n",
            "After Permutation: torch.Size([3, 224, 244])\n"
          ]
        }
      ]
    },
    {
      "cell_type": "code",
      "source": [
        "x_original[0,0,0] = 437150\n",
        "x_original[0,0,0]"
      ],
      "metadata": {
        "colab": {
          "base_uri": "https://localhost:8080/"
        },
        "id": "owKNcBj5R41H",
        "outputId": "8d636c48-6e8e-4487-b909-e2dda9ffedc4"
      },
      "execution_count": null,
      "outputs": [
        {
          "output_type": "execute_result",
          "data": {
            "text/plain": [
              "tensor(437150.)"
            ]
          },
          "metadata": {},
          "execution_count": 79
        }
      ]
    },
    {
      "cell_type": "code",
      "source": [
        "x_permuted[0,0,0] # yes, changes in original are reflected in the permuted tensor"
      ],
      "metadata": {
        "colab": {
          "base_uri": "https://localhost:8080/"
        },
        "id": "RblMxo0MSJVP",
        "outputId": "4b364720-35af-42d2-b8c2-8dc63572248e"
      },
      "execution_count": null,
      "outputs": [
        {
          "output_type": "execute_result",
          "data": {
            "text/plain": [
              "tensor(437150.)"
            ]
          },
          "metadata": {},
          "execution_count": 80
        }
      ]
    },
    {
      "cell_type": "markdown",
      "source": [
        "### Some additional information !\n",
        "\n",
        "A tensor becomes non-contiguous when you do operations that reorder or reshape it without copying data.\n",
        "\n",
        "These operations create views, but the memory layout becomes non-standard (non-contiguous), because the tensor just points to parts of the original memory, instead of storing the data in a nice row-by-row format. [ permute(), select(), transpose(), narrow(), expand() ]\n",
        "\n",
        "### Is it only when we create a view?\n",
        "Not always — but most non-contiguous tensors are views created from the original tensor using operations like permute, transpose, etc.\n",
        "\n",
        "However, a view can still be contiguous if it doesn’t mess with memory layout.\n",
        "\n",
        "### Does modifying the permuted tensor, change the original?\n",
        "\n",
        "permute() returns a view, but often a non-contiguous one. Modifying it in-place will error out unless you make it contiguous (which breaks the view).\n",
        "\n",
        "Hence,  Modifying a permuted tensor doesn't change the original in most practical cases, especially after contiguous() or operations that copy data."
      ],
      "metadata": {
        "id": "_oxUsCn4ThQu"
      }
    },
    {
      "cell_type": "markdown",
      "source": [
        "## Indexing (selecting data from tensors)\n",
        "\n",
        "Similar to indexing in NumPy"
      ],
      "metadata": {
        "id": "PmcBLvO_STTG"
      }
    },
    {
      "cell_type": "code",
      "source": [
        "import torch\n",
        "\n",
        "# Create a torch\n",
        "\n",
        "x = torch.arange(1,10).reshape(1,3,3) # 9 values\n",
        "x, x.shape"
      ],
      "metadata": {
        "colab": {
          "base_uri": "https://localhost:8080/"
        },
        "id": "FhhCUo61UYCy",
        "outputId": "84367663-760c-4eb1-de4f-8b1a5b7541ad"
      },
      "execution_count": null,
      "outputs": [
        {
          "output_type": "execute_result",
          "data": {
            "text/plain": [
              "(tensor([[[1, 2, 3],\n",
              "          [4, 5, 6],\n",
              "          [7, 8, 9]]]),\n",
              " torch.Size([1, 3, 3]))"
            ]
          },
          "metadata": {},
          "execution_count": 81
        }
      ]
    },
    {
      "cell_type": "code",
      "source": [
        "# Let's index on our new tensor\n",
        "\n",
        "x[0]"
      ],
      "metadata": {
        "colab": {
          "base_uri": "https://localhost:8080/"
        },
        "id": "A1UBoFjwUkbd",
        "outputId": "8923bf39-3cd9-49c5-bf4b-50215d07174d"
      },
      "execution_count": null,
      "outputs": [
        {
          "output_type": "execute_result",
          "data": {
            "text/plain": [
              "tensor([[1, 2, 3],\n",
              "        [4, 5, 6],\n",
              "        [7, 8, 9]])"
            ]
          },
          "metadata": {},
          "execution_count": 82
        }
      ]
    },
    {
      "cell_type": "code",
      "source": [
        "x[0][1] # same as x[0,0] - index on second dimension (3)"
      ],
      "metadata": {
        "colab": {
          "base_uri": "https://localhost:8080/"
        },
        "id": "-GlT-BRsU9qI",
        "outputId": "308d915d-2a8a-4426-e25a-8cf09882247c"
      },
      "execution_count": null,
      "outputs": [
        {
          "output_type": "execute_result",
          "data": {
            "text/plain": [
              "tensor([4, 5, 6])"
            ]
          },
          "metadata": {},
          "execution_count": 83
        }
      ]
    },
    {
      "cell_type": "code",
      "source": [
        "x[0,2,2] #- index on third dimension (3) - returns 9"
      ],
      "metadata": {
        "colab": {
          "base_uri": "https://localhost:8080/"
        },
        "id": "LY1xLCqMVB5B",
        "outputId": "d5084867-359a-4dcb-87e1-1c59533b4022"
      },
      "execution_count": null,
      "outputs": [
        {
          "output_type": "execute_result",
          "data": {
            "text/plain": [
              "tensor(9)"
            ]
          },
          "metadata": {},
          "execution_count": 84
        }
      ]
    },
    {
      "cell_type": "code",
      "source": [
        "# you can also use `:` to select \"all\" of a target dimension\n",
        "\n",
        "x[0,:,2]"
      ],
      "metadata": {
        "colab": {
          "base_uri": "https://localhost:8080/"
        },
        "id": "PLAEcwB_VErY",
        "outputId": "4be7f053-6470-4201-9826-2b7044dce571"
      },
      "execution_count": null,
      "outputs": [
        {
          "output_type": "execute_result",
          "data": {
            "text/plain": [
              "tensor([3, 6, 9])"
            ]
          },
          "metadata": {},
          "execution_count": 85
        }
      ]
    },
    {
      "cell_type": "code",
      "source": [
        "# Get index index 0 of 0th and 1st dimension and all values of 2nd dimension\n",
        "\n",
        "x[0,0,:]"
      ],
      "metadata": {
        "colab": {
          "base_uri": "https://localhost:8080/"
        },
        "id": "xEe5Fw7wVtQW",
        "outputId": "bc3efcc5-a195-4048-e7d3-0b0d3cc80509"
      },
      "execution_count": null,
      "outputs": [
        {
          "output_type": "execute_result",
          "data": {
            "text/plain": [
              "tensor([1, 2, 3])"
            ]
          },
          "metadata": {},
          "execution_count": 86
        }
      ]
    },
    {
      "cell_type": "code",
      "source": [
        "# Get all values of the 0th dimension but only 1 index value of 1st and 2nd dimension\n",
        "\n",
        "x[:,1,1]"
      ],
      "metadata": {
        "colab": {
          "base_uri": "https://localhost:8080/"
        },
        "id": "ZxPe4xzsWUuO",
        "outputId": "75fd713c-35b0-46f1-baaf-09b12e133f0e"
      },
      "execution_count": null,
      "outputs": [
        {
          "output_type": "execute_result",
          "data": {
            "text/plain": [
              "tensor([5])"
            ]
          },
          "metadata": {},
          "execution_count": 87
        }
      ]
    },
    {
      "cell_type": "markdown",
      "source": [
        "## PyTorch Tensors and NumPy\n",
        "\n",
        "NumPy is a popular scientific Python numerical computing library. And because of this, PyTorch has functionality to interact with it.\n",
        "\n",
        "1. Data in NumPy, want in PyTorch tensor using `torch.from_numpy(ndarray)`\n",
        "2. PyTorch tensor -> NumPy Array `torch.tensor.numpy()`\n"
      ],
      "metadata": {
        "id": "kkdpbZvgWrvh"
      }
    },
    {
      "cell_type": "code",
      "source": [
        "# NumPy array to tensor\n",
        "\n",
        "import numpy as np\n",
        "import torch\n",
        "\n",
        "array = np.arange(1.0,8.0)\n",
        "tensor = torch.from_numpy(array) # warning: when converting from numpy -> pytorch reflects numpy's default data type, unless specified otherwise!\n",
        "\n",
        "# Why does the tensor dtype come as float64, because default numpy datatype is float64, and PyToch adapts to it\n",
        "array, tensor"
      ],
      "metadata": {
        "colab": {
          "base_uri": "https://localhost:8080/"
        },
        "id": "buoGSbfEWabM",
        "outputId": "982bdd23-e345-48e4-f7ab-0a485c907b20"
      },
      "execution_count": null,
      "outputs": [
        {
          "output_type": "execute_result",
          "data": {
            "text/plain": [
              "(array([1., 2., 3., 4., 5., 6., 7.]),\n",
              " tensor([1., 2., 3., 4., 5., 6., 7.], dtype=torch.float64))"
            ]
          },
          "metadata": {},
          "execution_count": 88
        }
      ]
    },
    {
      "cell_type": "code",
      "source": [
        "# Change the value of array, what will this do to the tensor?\n",
        "\n",
        "array = array + 1\n",
        "array, tensor # Answer - tensor value doesn't change!, new tensor in memory"
      ],
      "metadata": {
        "colab": {
          "base_uri": "https://localhost:8080/"
        },
        "id": "Nv5f19YUXRG5",
        "outputId": "53d2c9b8-d4f4-4f33-c5de-acebc9b9eace"
      },
      "execution_count": null,
      "outputs": [
        {
          "output_type": "execute_result",
          "data": {
            "text/plain": [
              "(array([2., 3., 4., 5., 6., 7., 8.]),\n",
              " tensor([1., 2., 3., 4., 5., 6., 7.], dtype=torch.float64))"
            ]
          },
          "metadata": {},
          "execution_count": 89
        }
      ]
    },
    {
      "cell_type": "code",
      "source": [
        "# Tensor to NumPy array\n",
        "\n",
        "tensor = torch.ones(7)\n",
        "numpy_array = tensor.numpy() # will have dtype = float32, reflects the original PyTorch default\n",
        "tensor, numpy_array"
      ],
      "metadata": {
        "colab": {
          "base_uri": "https://localhost:8080/"
        },
        "id": "lerqNtWjX0_O",
        "outputId": "a94d941a-594f-4740-cd30-01e0db5cff86"
      },
      "execution_count": null,
      "outputs": [
        {
          "output_type": "execute_result",
          "data": {
            "text/plain": [
              "(tensor([1., 1., 1., 1., 1., 1., 1.]),\n",
              " array([1., 1., 1., 1., 1., 1., 1.], dtype=float32))"
            ]
          },
          "metadata": {},
          "execution_count": 90
        }
      ]
    },
    {
      "cell_type": "code",
      "source": [
        "# Change the tensor, what happens to numpy array/ tensor?\n",
        "\n",
        "tensor = tensor + 1\n",
        "tensor, numpy_array # Answer - doesn't change, hence they don't share memory"
      ],
      "metadata": {
        "colab": {
          "base_uri": "https://localhost:8080/"
        },
        "id": "vcbVUdBfYOzx",
        "outputId": "4a365647-5df1-4b4a-8ee2-2d213d4910e3"
      },
      "execution_count": null,
      "outputs": [
        {
          "output_type": "execute_result",
          "data": {
            "text/plain": [
              "(tensor([2., 2., 2., 2., 2., 2., 2.]),\n",
              " array([1., 1., 1., 1., 1., 1., 1.], dtype=float32))"
            ]
          },
          "metadata": {},
          "execution_count": 91
        }
      ]
    },
    {
      "cell_type": "markdown",
      "source": [
        "# Reproducibility\n",
        "\n",
        "**A random seed (or seed state, or just seed) is a number (or vector) used to initialize a pseudorandom number generator.**\n",
        "\n",
        "- Trying to take the random out of random\n",
        "- In short, how a NN learns is that we\n",
        "\n",
        "`Start with random numbers -> tensor operations -> update random numbers to try and make them better representations of the data -> repeat again and again `\n",
        "\n",
        "- Use torch.rand() to start with random numbers, but what if you share this notebook with a friend and we will get different output?\n",
        "\n",
        "- Hence, to reduce the randomness in neural networks and PyTorch comes the concept of **random seed**\n",
        "\n",
        "Essentially, what the random seed does is the \"flavour\" the randomness. This is called Pseudo-randomness!"
      ],
      "metadata": {
        "id": "IlYRrIQnYpMB"
      }
    },
    {
      "cell_type": "code",
      "source": [
        "import torch\n",
        "\n",
        "random_tensor_A = torch.rand(3,4)\n",
        "random_tensor_B = torch.rand(3,4)\n",
        "\n",
        "random_tensor_A, random_tensor_B, random_tensor_A == random_tensor_B # they are not equal (obviously)"
      ],
      "metadata": {
        "colab": {
          "base_uri": "https://localhost:8080/"
        },
        "id": "cTKUhipvYc5I",
        "outputId": "d6c4cb4b-0bc9-464d-eca8-38b686013568"
      },
      "execution_count": null,
      "outputs": [
        {
          "output_type": "execute_result",
          "data": {
            "text/plain": [
              "(tensor([[9.1022e-01, 9.2708e-01, 9.2110e-01, 9.1411e-01],\n",
              "         [2.1153e-01, 8.8279e-01, 8.6602e-01, 9.6379e-01],\n",
              "         [2.9296e-04, 5.3588e-01, 6.8811e-01, 9.7044e-01]]),\n",
              " tensor([[0.8300, 0.5375, 0.0287, 0.2321],\n",
              "         [0.2951, 0.6255, 0.6260, 0.6717],\n",
              "         [0.0673, 0.6746, 0.2714, 0.0199]]),\n",
              " tensor([[False, False, False, False],\n",
              "         [False, False, False, False],\n",
              "         [False, False, False, False]]))"
            ]
          },
          "metadata": {},
          "execution_count": 92
        }
      ]
    },
    {
      "cell_type": "code",
      "source": [
        "# Make them random but reproducible..?\n",
        "\n",
        "RANDOM_SEED = 42 # can set it to any, different flavours of randomness\n",
        "torch.manual_seed(RANDOM_SEED)\n",
        "\n",
        "random_tensor_c = torch.rand(3,4)\n",
        "\n",
        "RANDOM_SEED = 42 # ONLY WORKS for one block of code! gets used up in one assignment\n",
        "torch.manual_seed(RANDOM_SEED)\n",
        "random_tensor_d = torch.rand(3,4)\n",
        "\n",
        "# use random seed, every time u call .rand() method or start manual_seed(RANDOM_SEED) do it at the start\n",
        "\n",
        "random_tensor_c, random_tensor_d, random_tensor_c == random_tensor_d"
      ],
      "metadata": {
        "colab": {
          "base_uri": "https://localhost:8080/"
        },
        "id": "81IKoXNdZBEh",
        "outputId": "8d39dc15-9887-4cfb-b8e3-f4230f315c22"
      },
      "execution_count": null,
      "outputs": [
        {
          "output_type": "execute_result",
          "data": {
            "text/plain": [
              "(tensor([[0.8823, 0.9150, 0.3829, 0.9593],\n",
              "         [0.3904, 0.6009, 0.2566, 0.7936],\n",
              "         [0.9408, 0.1332, 0.9346, 0.5936]]),\n",
              " tensor([[0.8823, 0.9150, 0.3829, 0.9593],\n",
              "         [0.3904, 0.6009, 0.2566, 0.7936],\n",
              "         [0.9408, 0.1332, 0.9346, 0.5936]]),\n",
              " tensor([[True, True, True, True],\n",
              "         [True, True, True, True],\n",
              "         [True, True, True, True]]))"
            ]
          },
          "metadata": {},
          "execution_count": 93
        }
      ]
    },
    {
      "cell_type": "markdown",
      "source": [
        "### Running tensors and PyTorch objects on the GPUs (and making faster computations)\n",
        "\n",
        "GPUs - faster comutation on numbers, thanks to CUDA + NVIDIA hardware + PyTorch working behind the scenes to making everything dory (good).\n",
        "\n"
      ],
      "metadata": {
        "id": "k78-PJ4MbbhQ"
      }
    },
    {
      "cell_type": "markdown",
      "source": [
        "### 1. Getting a GPU:\n",
        "\n",
        "a) Easiest - Use Google Colab or free GPU (to upgrade as well)\n",
        "\n",
        "b) Use your own GPU - takes a little bit of setup and requires the investment of puchasing a GPU (too many options) (See this https://timdettmers.com/2023/01/30/which-gpu-for-deep-learning/*italicised text*)\n",
        "\n",
        "c) Use cloud computing - GCP, AWS, Azure, these services allow you to rent computers on the cloud and access them"
      ],
      "metadata": {
        "id": "DHcLQ4hBbe33"
      }
    },
    {
      "cell_type": "markdown",
      "source": [
        "### 2. Check for GPU Access\n",
        "\n"
      ],
      "metadata": {
        "id": "pOnPOG_qc_n6"
      }
    },
    {
      "cell_type": "code",
      "source": [
        "# Check for GPU access with PyTorch\n",
        "\n",
        "import torch\n",
        "torch.cuda.is_available()"
      ],
      "metadata": {
        "colab": {
          "base_uri": "https://localhost:8080/"
        },
        "id": "9shUb_4TcGYh",
        "outputId": "562d1445-777a-40f5-a8e1-e6c62b70cc21"
      },
      "execution_count": null,
      "outputs": [
        {
          "output_type": "execute_result",
          "data": {
            "text/plain": [
              "False"
            ]
          },
          "metadata": {},
          "execution_count": 94
        }
      ]
    },
    {
      "cell_type": "code",
      "source": [
        "# Setup device agnostic code\n",
        "\n",
        "device = \"cuda\" if torch.cuda.is_available() else \"cpu\"\n",
        "device"
      ],
      "metadata": {
        "colab": {
          "base_uri": "https://localhost:8080/",
          "height": 35
        },
        "id": "kvg-NJXidJeH",
        "outputId": "d38fd041-e95d-4fb0-bd66-f110f70d32a4"
      },
      "execution_count": null,
      "outputs": [
        {
          "output_type": "execute_result",
          "data": {
            "text/plain": [
              "'cpu'"
            ],
            "application/vnd.google.colaboratory.intrinsic+json": {
              "type": "string"
            }
          },
          "metadata": {},
          "execution_count": 95
        }
      ]
    },
    {
      "cell_type": "code",
      "source": [
        "# Count number of devices\n",
        "torch.cuda.device_count() # for large, models which are run on multiple devices"
      ],
      "metadata": {
        "colab": {
          "base_uri": "https://localhost:8080/"
        },
        "id": "IK5huu-5diVE",
        "outputId": "a5e9d1bd-90c9-40a9-82c0-276b7a1276ee"
      },
      "execution_count": null,
      "outputs": [
        {
          "output_type": "execute_result",
          "data": {
            "text/plain": [
              "0"
            ]
          },
          "metadata": {},
          "execution_count": 96
        }
      ]
    },
    {
      "cell_type": "markdown",
      "source": [
        "for PyTorch since its capable of running computer on GPU or CPU, its best practice to set up device agnostic code.\n",
        "\n",
        "https://docs.pytorch.org/docs/stable/notes/cuda.html#best-practices"
      ],
      "metadata": {
        "id": "azzpTeYWdwfj"
      }
    },
    {
      "cell_type": "markdown",
      "source": [
        "### 3. Putting tensors (and models) on the GPU\n",
        "\n",
        "The reason we want our tensors/models on the GPU is because using a GPU results in faster computations.\n"
      ],
      "metadata": {
        "id": "eQBNtXX8eYHW"
      }
    },
    {
      "cell_type": "code",
      "source": [
        "# Create a tensor ( default is on the CPU )\n",
        "\n",
        "tensor = torch.tensor([1,2,3], device = \"cpu\")\n",
        "\n",
        "print(tensor, tensor.device)"
      ],
      "metadata": {
        "colab": {
          "base_uri": "https://localhost:8080/"
        },
        "id": "LNhVGbcpehWe",
        "outputId": "247fe53e-089f-4638-e91c-13e3c82e7036"
      },
      "execution_count": null,
      "outputs": [
        {
          "output_type": "stream",
          "name": "stdout",
          "text": [
            "tensor([1, 2, 3]) cpu\n"
          ]
        }
      ]
    },
    {
      "cell_type": "code",
      "source": [
        "# Move tensor to GPU (if available)\n",
        "device = \"cuda\" if torch.cuda.is_available() else \"cpu\"\n",
        "tensor_on_gpu = tensor.to(device)\n",
        "tensor_on_gpu, tensor_on_gpu.device # cuda:0, index = 0, as we only have 1 GPU"
      ],
      "metadata": {
        "colab": {
          "base_uri": "https://localhost:8080/"
        },
        "id": "zJ_aQI3-et0_",
        "outputId": "9277f5ee-5ebb-4966-ef43-780f8338503d"
      },
      "execution_count": null,
      "outputs": [
        {
          "output_type": "execute_result",
          "data": {
            "text/plain": [
              "(tensor([1, 2, 3]), device(type='cpu'))"
            ]
          },
          "metadata": {},
          "execution_count": 98
        }
      ]
    },
    {
      "cell_type": "markdown",
      "source": [
        "### 4. Moving tensors back to the CPU"
      ],
      "metadata": {
        "id": "8uS2riKBfjo5"
      }
    },
    {
      "cell_type": "code",
      "source": [
        "# If tensor is on GPU, can't transform it to NumPy\n",
        "\n",
        "tensor_on_gpu.numpy() # 3rd type of error, incompatiable device"
      ],
      "metadata": {
        "colab": {
          "base_uri": "https://localhost:8080/"
        },
        "id": "B-6NaFCcfJs-",
        "outputId": "e7b4233b-20a7-4817-dbbd-b62188b29ba2"
      },
      "execution_count": null,
      "outputs": [
        {
          "output_type": "execute_result",
          "data": {
            "text/plain": [
              "array([1, 2, 3])"
            ]
          },
          "metadata": {},
          "execution_count": 99
        }
      ]
    },
    {
      "cell_type": "code",
      "source": [
        "# To fix the GPU tensor with NumPY issue, we can first set it to the CPU\n",
        "\n",
        "tensor_back_on_cpu = tensor_on_gpu.cpu().numpy()\n",
        "tensor_back_on_cpu"
      ],
      "metadata": {
        "colab": {
          "base_uri": "https://localhost:8080/"
        },
        "id": "jWQxBI3Afvvz",
        "outputId": "7f63ff0f-18b7-4eca-eca9-c93a9e5ce0ee"
      },
      "execution_count": null,
      "outputs": [
        {
          "output_type": "execute_result",
          "data": {
            "text/plain": [
              "array([1, 2, 3])"
            ]
          },
          "metadata": {},
          "execution_count": 100
        }
      ]
    },
    {
      "cell_type": "code",
      "source": [
        "tensor_on_gpu # remains unchanged!"
      ],
      "metadata": {
        "colab": {
          "base_uri": "https://localhost:8080/"
        },
        "id": "usk1FSdXgNHv",
        "outputId": "6c7060b4-f4b7-46a0-b1a9-8ab3871989c5"
      },
      "execution_count": null,
      "outputs": [
        {
          "output_type": "execute_result",
          "data": {
            "text/plain": [
              "tensor([1, 2, 3])"
            ]
          },
          "metadata": {},
          "execution_count": 101
        }
      ]
    }
  ]
}